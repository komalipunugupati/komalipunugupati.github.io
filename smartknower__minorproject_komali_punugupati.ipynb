{
  "nbformat": 4,
  "nbformat_minor": 0,
  "metadata": {
    "colab": {
      "name": "smartknower _minorproject-komali punugupati.ipynb",
      "provenance": [],
      "authorship_tag": "ABX9TyOABKtqHb+j3kjbDdm+wyp7",
      "include_colab_link": true
    },
    "kernelspec": {
      "name": "python3",
      "display_name": "Python 3"
    },
    "language_info": {
      "name": "python"
    }
  },
  "cells": [
    {
      "cell_type": "markdown",
      "metadata": {
        "id": "view-in-github",
        "colab_type": "text"
      },
      "source": [
        "<a href=\"https://colab.research.google.com/github/komalipunugupati/komalipunugupati.github.io/blob/master/smartknower__minorproject_komali_punugupati.ipynb\" target=\"_parent\"><img src=\"https://colab.research.google.com/assets/colab-badge.svg\" alt=\"Open In Colab\"/></a>"
      ]
    },
    {
      "cell_type": "code",
      "execution_count": null,
      "metadata": {
        "id": "9N6fTYvltK9C"
      },
      "outputs": [],
      "source": [
        "\n",
        "import pandas as pd\n",
        "import matplotlib.pyplot as plt\n",
        "import numpy as np\n",
        "import seaborn as sns"
      ]
    },
    {
      "cell_type": "code",
      "source": [
        "from google.colab import files\n",
        "uploaded = files.upload()"
      ],
      "metadata": {
        "colab": {
          "resources": {
            "http://localhost:8080/nbextensions/google.colab/files.js": {
              "data": "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",
              "ok": true,
              "headers": [
                [
                  "content-type",
                  "application/javascript"
                ]
              ],
              "status": 200,
              "status_text": ""
            }
          },
          "base_uri": "https://localhost:8080/",
          "height": 73
        },
        "id": "jEazBZustZYm",
        "outputId": "238d0529-b354-44ef-b248-5c033afc887c"
      },
      "execution_count": null,
      "outputs": [
        {
          "output_type": "display_data",
          "data": {
            "text/plain": [
              "<IPython.core.display.HTML object>"
            ],
            "text/html": [
              "\n",
              "     <input type=\"file\" id=\"files-b07522f8-ae9f-4915-8025-30338232f3bd\" name=\"files[]\" multiple disabled\n",
              "        style=\"border:none\" />\n",
              "     <output id=\"result-b07522f8-ae9f-4915-8025-30338232f3bd\">\n",
              "      Upload widget is only available when the cell has been executed in the\n",
              "      current browser session. Please rerun this cell to enable.\n",
              "      </output>\n",
              "      <script src=\"/nbextensions/google.colab/files.js\"></script> "
            ]
          },
          "metadata": {}
        },
        {
          "output_type": "stream",
          "name": "stdout",
          "text": [
            "Saving voice.csv to voice.csv\n"
          ]
        }
      ]
    },
    {
      "cell_type": "code",
      "source": [
        "df = pd.read_csv('voice.csv')\n",
        "df.head()"
      ],
      "metadata": {
        "id": "ZgZwqDyEtiL0",
        "colab": {
          "base_uri": "https://localhost:8080/",
          "height": 300
        },
        "outputId": "a44976ab-5276-4b34-dfff-d2c4003cd16d"
      },
      "execution_count": null,
      "outputs": [
        {
          "output_type": "execute_result",
          "data": {
            "text/plain": [
              "   meanfreq        sd    median       Q25       Q75       IQR       skew  \\\n",
              "0  0.059781  0.064241  0.032027  0.015071  0.090193  0.075122  12.863462   \n",
              "1  0.066009  0.067310  0.040229  0.019414  0.092666  0.073252  22.423285   \n",
              "2  0.077316  0.083829  0.036718  0.008701  0.131908  0.123207  30.757155   \n",
              "3  0.151228  0.072111  0.158011  0.096582  0.207955  0.111374   1.232831   \n",
              "4  0.135120  0.079146  0.124656  0.078720  0.206045  0.127325   1.101174   \n",
              "\n",
              "          kurt    sp.ent       sfm  ...  centroid   meanfun    minfun  \\\n",
              "0   274.402906  0.893369  0.491918  ...  0.059781  0.084279  0.015702   \n",
              "1   634.613855  0.892193  0.513724  ...  0.066009  0.107937  0.015826   \n",
              "2  1024.927705  0.846389  0.478905  ...  0.077316  0.098706  0.015656   \n",
              "3     4.177296  0.963322  0.727232  ...  0.151228  0.088965  0.017798   \n",
              "4     4.333713  0.971955  0.783568  ...  0.135120  0.106398  0.016931   \n",
              "\n",
              "     maxfun   meandom    mindom    maxdom   dfrange   modindx  label  \n",
              "0  0.275862  0.007812  0.007812  0.007812  0.000000  0.000000   male  \n",
              "1  0.250000  0.009014  0.007812  0.054688  0.046875  0.052632   male  \n",
              "2  0.271186  0.007990  0.007812  0.015625  0.007812  0.046512   male  \n",
              "3  0.250000  0.201497  0.007812  0.562500  0.554688  0.247119   male  \n",
              "4  0.266667  0.712812  0.007812  5.484375  5.476562  0.208274   male  \n",
              "\n",
              "[5 rows x 21 columns]"
            ],
            "text/html": [
              "\n",
              "  <div id=\"df-7d23468c-9eb2-4e7b-8a83-2e0fd7619a04\">\n",
              "    <div class=\"colab-df-container\">\n",
              "      <div>\n",
              "<style scoped>\n",
              "    .dataframe tbody tr th:only-of-type {\n",
              "        vertical-align: middle;\n",
              "    }\n",
              "\n",
              "    .dataframe tbody tr th {\n",
              "        vertical-align: top;\n",
              "    }\n",
              "\n",
              "    .dataframe thead th {\n",
              "        text-align: right;\n",
              "    }\n",
              "</style>\n",
              "<table border=\"1\" class=\"dataframe\">\n",
              "  <thead>\n",
              "    <tr style=\"text-align: right;\">\n",
              "      <th></th>\n",
              "      <th>meanfreq</th>\n",
              "      <th>sd</th>\n",
              "      <th>median</th>\n",
              "      <th>Q25</th>\n",
              "      <th>Q75</th>\n",
              "      <th>IQR</th>\n",
              "      <th>skew</th>\n",
              "      <th>kurt</th>\n",
              "      <th>sp.ent</th>\n",
              "      <th>sfm</th>\n",
              "      <th>...</th>\n",
              "      <th>centroid</th>\n",
              "      <th>meanfun</th>\n",
              "      <th>minfun</th>\n",
              "      <th>maxfun</th>\n",
              "      <th>meandom</th>\n",
              "      <th>mindom</th>\n",
              "      <th>maxdom</th>\n",
              "      <th>dfrange</th>\n",
              "      <th>modindx</th>\n",
              "      <th>label</th>\n",
              "    </tr>\n",
              "  </thead>\n",
              "  <tbody>\n",
              "    <tr>\n",
              "      <th>0</th>\n",
              "      <td>0.059781</td>\n",
              "      <td>0.064241</td>\n",
              "      <td>0.032027</td>\n",
              "      <td>0.015071</td>\n",
              "      <td>0.090193</td>\n",
              "      <td>0.075122</td>\n",
              "      <td>12.863462</td>\n",
              "      <td>274.402906</td>\n",
              "      <td>0.893369</td>\n",
              "      <td>0.491918</td>\n",
              "      <td>...</td>\n",
              "      <td>0.059781</td>\n",
              "      <td>0.084279</td>\n",
              "      <td>0.015702</td>\n",
              "      <td>0.275862</td>\n",
              "      <td>0.007812</td>\n",
              "      <td>0.007812</td>\n",
              "      <td>0.007812</td>\n",
              "      <td>0.000000</td>\n",
              "      <td>0.000000</td>\n",
              "      <td>male</td>\n",
              "    </tr>\n",
              "    <tr>\n",
              "      <th>1</th>\n",
              "      <td>0.066009</td>\n",
              "      <td>0.067310</td>\n",
              "      <td>0.040229</td>\n",
              "      <td>0.019414</td>\n",
              "      <td>0.092666</td>\n",
              "      <td>0.073252</td>\n",
              "      <td>22.423285</td>\n",
              "      <td>634.613855</td>\n",
              "      <td>0.892193</td>\n",
              "      <td>0.513724</td>\n",
              "      <td>...</td>\n",
              "      <td>0.066009</td>\n",
              "      <td>0.107937</td>\n",
              "      <td>0.015826</td>\n",
              "      <td>0.250000</td>\n",
              "      <td>0.009014</td>\n",
              "      <td>0.007812</td>\n",
              "      <td>0.054688</td>\n",
              "      <td>0.046875</td>\n",
              "      <td>0.052632</td>\n",
              "      <td>male</td>\n",
              "    </tr>\n",
              "    <tr>\n",
              "      <th>2</th>\n",
              "      <td>0.077316</td>\n",
              "      <td>0.083829</td>\n",
              "      <td>0.036718</td>\n",
              "      <td>0.008701</td>\n",
              "      <td>0.131908</td>\n",
              "      <td>0.123207</td>\n",
              "      <td>30.757155</td>\n",
              "      <td>1024.927705</td>\n",
              "      <td>0.846389</td>\n",
              "      <td>0.478905</td>\n",
              "      <td>...</td>\n",
              "      <td>0.077316</td>\n",
              "      <td>0.098706</td>\n",
              "      <td>0.015656</td>\n",
              "      <td>0.271186</td>\n",
              "      <td>0.007990</td>\n",
              "      <td>0.007812</td>\n",
              "      <td>0.015625</td>\n",
              "      <td>0.007812</td>\n",
              "      <td>0.046512</td>\n",
              "      <td>male</td>\n",
              "    </tr>\n",
              "    <tr>\n",
              "      <th>3</th>\n",
              "      <td>0.151228</td>\n",
              "      <td>0.072111</td>\n",
              "      <td>0.158011</td>\n",
              "      <td>0.096582</td>\n",
              "      <td>0.207955</td>\n",
              "      <td>0.111374</td>\n",
              "      <td>1.232831</td>\n",
              "      <td>4.177296</td>\n",
              "      <td>0.963322</td>\n",
              "      <td>0.727232</td>\n",
              "      <td>...</td>\n",
              "      <td>0.151228</td>\n",
              "      <td>0.088965</td>\n",
              "      <td>0.017798</td>\n",
              "      <td>0.250000</td>\n",
              "      <td>0.201497</td>\n",
              "      <td>0.007812</td>\n",
              "      <td>0.562500</td>\n",
              "      <td>0.554688</td>\n",
              "      <td>0.247119</td>\n",
              "      <td>male</td>\n",
              "    </tr>\n",
              "    <tr>\n",
              "      <th>4</th>\n",
              "      <td>0.135120</td>\n",
              "      <td>0.079146</td>\n",
              "      <td>0.124656</td>\n",
              "      <td>0.078720</td>\n",
              "      <td>0.206045</td>\n",
              "      <td>0.127325</td>\n",
              "      <td>1.101174</td>\n",
              "      <td>4.333713</td>\n",
              "      <td>0.971955</td>\n",
              "      <td>0.783568</td>\n",
              "      <td>...</td>\n",
              "      <td>0.135120</td>\n",
              "      <td>0.106398</td>\n",
              "      <td>0.016931</td>\n",
              "      <td>0.266667</td>\n",
              "      <td>0.712812</td>\n",
              "      <td>0.007812</td>\n",
              "      <td>5.484375</td>\n",
              "      <td>5.476562</td>\n",
              "      <td>0.208274</td>\n",
              "      <td>male</td>\n",
              "    </tr>\n",
              "  </tbody>\n",
              "</table>\n",
              "<p>5 rows × 21 columns</p>\n",
              "</div>\n",
              "      <button class=\"colab-df-convert\" onclick=\"convertToInteractive('df-7d23468c-9eb2-4e7b-8a83-2e0fd7619a04')\"\n",
              "              title=\"Convert this dataframe to an interactive table.\"\n",
              "              style=\"display:none;\">\n",
              "        \n",
              "  <svg xmlns=\"http://www.w3.org/2000/svg\" height=\"24px\"viewBox=\"0 0 24 24\"\n",
              "       width=\"24px\">\n",
              "    <path d=\"M0 0h24v24H0V0z\" fill=\"none\"/>\n",
              "    <path d=\"M18.56 5.44l.94 2.06.94-2.06 2.06-.94-2.06-.94-.94-2.06-.94 2.06-2.06.94zm-11 1L8.5 8.5l.94-2.06 2.06-.94-2.06-.94L8.5 2.5l-.94 2.06-2.06.94zm10 10l.94 2.06.94-2.06 2.06-.94-2.06-.94-.94-2.06-.94 2.06-2.06.94z\"/><path d=\"M17.41 7.96l-1.37-1.37c-.4-.4-.92-.59-1.43-.59-.52 0-1.04.2-1.43.59L10.3 9.45l-7.72 7.72c-.78.78-.78 2.05 0 2.83L4 21.41c.39.39.9.59 1.41.59.51 0 1.02-.2 1.41-.59l7.78-7.78 2.81-2.81c.8-.78.8-2.07 0-2.86zM5.41 20L4 18.59l7.72-7.72 1.47 1.35L5.41 20z\"/>\n",
              "  </svg>\n",
              "      </button>\n",
              "      \n",
              "  <style>\n",
              "    .colab-df-container {\n",
              "      display:flex;\n",
              "      flex-wrap:wrap;\n",
              "      gap: 12px;\n",
              "    }\n",
              "\n",
              "    .colab-df-convert {\n",
              "      background-color: #E8F0FE;\n",
              "      border: none;\n",
              "      border-radius: 50%;\n",
              "      cursor: pointer;\n",
              "      display: none;\n",
              "      fill: #1967D2;\n",
              "      height: 32px;\n",
              "      padding: 0 0 0 0;\n",
              "      width: 32px;\n",
              "    }\n",
              "\n",
              "    .colab-df-convert:hover {\n",
              "      background-color: #E2EBFA;\n",
              "      box-shadow: 0px 1px 2px rgba(60, 64, 67, 0.3), 0px 1px 3px 1px rgba(60, 64, 67, 0.15);\n",
              "      fill: #174EA6;\n",
              "    }\n",
              "\n",
              "    [theme=dark] .colab-df-convert {\n",
              "      background-color: #3B4455;\n",
              "      fill: #D2E3FC;\n",
              "    }\n",
              "\n",
              "    [theme=dark] .colab-df-convert:hover {\n",
              "      background-color: #434B5C;\n",
              "      box-shadow: 0px 1px 3px 1px rgba(0, 0, 0, 0.15);\n",
              "      filter: drop-shadow(0px 1px 2px rgba(0, 0, 0, 0.3));\n",
              "      fill: #FFFFFF;\n",
              "    }\n",
              "  </style>\n",
              "\n",
              "      <script>\n",
              "        const buttonEl =\n",
              "          document.querySelector('#df-7d23468c-9eb2-4e7b-8a83-2e0fd7619a04 button.colab-df-convert');\n",
              "        buttonEl.style.display =\n",
              "          google.colab.kernel.accessAllowed ? 'block' : 'none';\n",
              "\n",
              "        async function convertToInteractive(key) {\n",
              "          const element = document.querySelector('#df-7d23468c-9eb2-4e7b-8a83-2e0fd7619a04');\n",
              "          const dataTable =\n",
              "            await google.colab.kernel.invokeFunction('convertToInteractive',\n",
              "                                                     [key], {});\n",
              "          if (!dataTable) return;\n",
              "\n",
              "          const docLinkHtml = 'Like what you see? Visit the ' +\n",
              "            '<a target=\"_blank\" href=https://colab.research.google.com/notebooks/data_table.ipynb>data table notebook</a>'\n",
              "            + ' to learn more about interactive tables.';\n",
              "          element.innerHTML = '';\n",
              "          dataTable['output_type'] = 'display_data';\n",
              "          await google.colab.output.renderOutput(dataTable, element);\n",
              "          const docLink = document.createElement('div');\n",
              "          docLink.innerHTML = docLinkHtml;\n",
              "          element.appendChild(docLink);\n",
              "        }\n",
              "      </script>\n",
              "    </div>\n",
              "  </div>\n",
              "  "
            ]
          },
          "metadata": {},
          "execution_count": 6
        }
      ]
    },
    {
      "cell_type": "code",
      "source": [
        "df.columns"
      ],
      "metadata": {
        "id": "jiOHLiDltm1U",
        "colab": {
          "base_uri": "https://localhost:8080/"
        },
        "outputId": "6c55c484-f354-4e64-fe8b-d4cc4f7c45bb"
      },
      "execution_count": null,
      "outputs": [
        {
          "output_type": "execute_result",
          "data": {
            "text/plain": [
              "Index(['meanfreq', 'sd', 'median', 'Q25', 'Q75', 'IQR', 'skew', 'kurt',\n",
              "       'sp.ent', 'sfm', 'mode', 'centroid', 'meanfun', 'minfun', 'maxfun',\n",
              "       'meandom', 'mindom', 'maxdom', 'dfrange', 'modindx', 'label'],\n",
              "      dtype='object')"
            ]
          },
          "metadata": {},
          "execution_count": 7
        }
      ]
    },
    {
      "cell_type": "code",
      "source": [
        "df.shape"
      ],
      "metadata": {
        "colab": {
          "base_uri": "https://localhost:8080/"
        },
        "id": "PWThMQkStra8",
        "outputId": "9f45e8c0-2299-4054-b384-3058a650d373"
      },
      "execution_count": null,
      "outputs": [
        {
          "output_type": "execute_result",
          "data": {
            "text/plain": [
              "(3168, 21)"
            ]
          },
          "metadata": {},
          "execution_count": 8
        }
      ]
    },
    {
      "cell_type": "code",
      "source": [
        "df.dtypes"
      ],
      "metadata": {
        "colab": {
          "base_uri": "https://localhost:8080/"
        },
        "id": "dcb6eqDPvECt",
        "outputId": "985241e6-003b-4fb0-f87f-9674ad774218"
      },
      "execution_count": null,
      "outputs": [
        {
          "output_type": "execute_result",
          "data": {
            "text/plain": [
              "meanfreq    float64\n",
              "sd          float64\n",
              "median      float64\n",
              "Q25         float64\n",
              "Q75         float64\n",
              "IQR         float64\n",
              "skew        float64\n",
              "kurt        float64\n",
              "sp.ent      float64\n",
              "sfm         float64\n",
              "mode        float64\n",
              "centroid    float64\n",
              "meanfun     float64\n",
              "minfun      float64\n",
              "maxfun      float64\n",
              "meandom     float64\n",
              "mindom      float64\n",
              "maxdom      float64\n",
              "dfrange     float64\n",
              "modindx     float64\n",
              "label        object\n",
              "dtype: object"
            ]
          },
          "metadata": {},
          "execution_count": 9
        }
      ]
    },
    {
      "cell_type": "code",
      "source": [
        "df.isnull().sum()"
      ],
      "metadata": {
        "colab": {
          "base_uri": "https://localhost:8080/"
        },
        "id": "WoamwpU9wA6s",
        "outputId": "8da23b4d-84d3-40fb-da87-cbd5ab7bbd32"
      },
      "execution_count": null,
      "outputs": [
        {
          "output_type": "execute_result",
          "data": {
            "text/plain": [
              "meanfreq    0\n",
              "sd          0\n",
              "median      0\n",
              "Q25         0\n",
              "Q75         0\n",
              "IQR         0\n",
              "skew        0\n",
              "kurt        0\n",
              "sp.ent      0\n",
              "sfm         0\n",
              "mode        0\n",
              "centroid    0\n",
              "meanfun     0\n",
              "minfun      0\n",
              "maxfun      0\n",
              "meandom     0\n",
              "mindom      0\n",
              "maxdom      0\n",
              "dfrange     0\n",
              "modindx     0\n",
              "label       0\n",
              "dtype: int64"
            ]
          },
          "metadata": {},
          "execution_count": 10
        }
      ]
    },
    {
      "cell_type": "code",
      "source": [
        "df.dropna()"
      ],
      "metadata": {
        "colab": {
          "base_uri": "https://localhost:8080/",
          "height": 488
        },
        "id": "PmTnxUOWwQ-m",
        "outputId": "6b7b4e73-c9a7-4a9c-8340-dac51afa02ed"
      },
      "execution_count": null,
      "outputs": [
        {
          "output_type": "execute_result",
          "data": {
            "text/plain": [
              "      meanfreq        sd    median       Q25       Q75       IQR       skew  \\\n",
              "0     0.059781  0.064241  0.032027  0.015071  0.090193  0.075122  12.863462   \n",
              "1     0.066009  0.067310  0.040229  0.019414  0.092666  0.073252  22.423285   \n",
              "2     0.077316  0.083829  0.036718  0.008701  0.131908  0.123207  30.757155   \n",
              "3     0.151228  0.072111  0.158011  0.096582  0.207955  0.111374   1.232831   \n",
              "4     0.135120  0.079146  0.124656  0.078720  0.206045  0.127325   1.101174   \n",
              "...        ...       ...       ...       ...       ...       ...        ...   \n",
              "3163  0.131884  0.084734  0.153707  0.049285  0.201144  0.151859   1.762129   \n",
              "3164  0.116221  0.089221  0.076758  0.042718  0.204911  0.162193   0.693730   \n",
              "3165  0.142056  0.095798  0.183731  0.033424  0.224360  0.190936   1.876502   \n",
              "3166  0.143659  0.090628  0.184976  0.043508  0.219943  0.176435   1.591065   \n",
              "3167  0.165509  0.092884  0.183044  0.070072  0.250827  0.180756   1.705029   \n",
              "\n",
              "             kurt    sp.ent       sfm  ...  centroid   meanfun    minfun  \\\n",
              "0      274.402906  0.893369  0.491918  ...  0.059781  0.084279  0.015702   \n",
              "1      634.613855  0.892193  0.513724  ...  0.066009  0.107937  0.015826   \n",
              "2     1024.927705  0.846389  0.478905  ...  0.077316  0.098706  0.015656   \n",
              "3        4.177296  0.963322  0.727232  ...  0.151228  0.088965  0.017798   \n",
              "4        4.333713  0.971955  0.783568  ...  0.135120  0.106398  0.016931   \n",
              "...           ...       ...       ...  ...       ...       ...       ...   \n",
              "3163     6.630383  0.962934  0.763182  ...  0.131884  0.182790  0.083770   \n",
              "3164     2.503954  0.960716  0.709570  ...  0.116221  0.188980  0.034409   \n",
              "3165     6.604509  0.946854  0.654196  ...  0.142056  0.209918  0.039506   \n",
              "3166     5.388298  0.950436  0.675470  ...  0.143659  0.172375  0.034483   \n",
              "3167     5.769115  0.938829  0.601529  ...  0.165509  0.185607  0.062257   \n",
              "\n",
              "        maxfun   meandom    mindom    maxdom   dfrange   modindx   label  \n",
              "0     0.275862  0.007812  0.007812  0.007812  0.000000  0.000000    male  \n",
              "1     0.250000  0.009014  0.007812  0.054688  0.046875  0.052632    male  \n",
              "2     0.271186  0.007990  0.007812  0.015625  0.007812  0.046512    male  \n",
              "3     0.250000  0.201497  0.007812  0.562500  0.554688  0.247119    male  \n",
              "4     0.266667  0.712812  0.007812  5.484375  5.476562  0.208274    male  \n",
              "...        ...       ...       ...       ...       ...       ...     ...  \n",
              "3163  0.262295  0.832899  0.007812  4.210938  4.203125  0.161929  female  \n",
              "3164  0.275862  0.909856  0.039062  3.679688  3.640625  0.277897  female  \n",
              "3165  0.275862  0.494271  0.007812  2.937500  2.929688  0.194759  female  \n",
              "3166  0.250000  0.791360  0.007812  3.593750  3.585938  0.311002  female  \n",
              "3167  0.271186  0.227022  0.007812  0.554688  0.546875  0.350000  female  \n",
              "\n",
              "[3168 rows x 21 columns]"
            ],
            "text/html": [
              "\n",
              "  <div id=\"df-cc0f7bcf-2710-4c50-9040-267c1f91be44\">\n",
              "    <div class=\"colab-df-container\">\n",
              "      <div>\n",
              "<style scoped>\n",
              "    .dataframe tbody tr th:only-of-type {\n",
              "        vertical-align: middle;\n",
              "    }\n",
              "\n",
              "    .dataframe tbody tr th {\n",
              "        vertical-align: top;\n",
              "    }\n",
              "\n",
              "    .dataframe thead th {\n",
              "        text-align: right;\n",
              "    }\n",
              "</style>\n",
              "<table border=\"1\" class=\"dataframe\">\n",
              "  <thead>\n",
              "    <tr style=\"text-align: right;\">\n",
              "      <th></th>\n",
              "      <th>meanfreq</th>\n",
              "      <th>sd</th>\n",
              "      <th>median</th>\n",
              "      <th>Q25</th>\n",
              "      <th>Q75</th>\n",
              "      <th>IQR</th>\n",
              "      <th>skew</th>\n",
              "      <th>kurt</th>\n",
              "      <th>sp.ent</th>\n",
              "      <th>sfm</th>\n",
              "      <th>...</th>\n",
              "      <th>centroid</th>\n",
              "      <th>meanfun</th>\n",
              "      <th>minfun</th>\n",
              "      <th>maxfun</th>\n",
              "      <th>meandom</th>\n",
              "      <th>mindom</th>\n",
              "      <th>maxdom</th>\n",
              "      <th>dfrange</th>\n",
              "      <th>modindx</th>\n",
              "      <th>label</th>\n",
              "    </tr>\n",
              "  </thead>\n",
              "  <tbody>\n",
              "    <tr>\n",
              "      <th>0</th>\n",
              "      <td>0.059781</td>\n",
              "      <td>0.064241</td>\n",
              "      <td>0.032027</td>\n",
              "      <td>0.015071</td>\n",
              "      <td>0.090193</td>\n",
              "      <td>0.075122</td>\n",
              "      <td>12.863462</td>\n",
              "      <td>274.402906</td>\n",
              "      <td>0.893369</td>\n",
              "      <td>0.491918</td>\n",
              "      <td>...</td>\n",
              "      <td>0.059781</td>\n",
              "      <td>0.084279</td>\n",
              "      <td>0.015702</td>\n",
              "      <td>0.275862</td>\n",
              "      <td>0.007812</td>\n",
              "      <td>0.007812</td>\n",
              "      <td>0.007812</td>\n",
              "      <td>0.000000</td>\n",
              "      <td>0.000000</td>\n",
              "      <td>male</td>\n",
              "    </tr>\n",
              "    <tr>\n",
              "      <th>1</th>\n",
              "      <td>0.066009</td>\n",
              "      <td>0.067310</td>\n",
              "      <td>0.040229</td>\n",
              "      <td>0.019414</td>\n",
              "      <td>0.092666</td>\n",
              "      <td>0.073252</td>\n",
              "      <td>22.423285</td>\n",
              "      <td>634.613855</td>\n",
              "      <td>0.892193</td>\n",
              "      <td>0.513724</td>\n",
              "      <td>...</td>\n",
              "      <td>0.066009</td>\n",
              "      <td>0.107937</td>\n",
              "      <td>0.015826</td>\n",
              "      <td>0.250000</td>\n",
              "      <td>0.009014</td>\n",
              "      <td>0.007812</td>\n",
              "      <td>0.054688</td>\n",
              "      <td>0.046875</td>\n",
              "      <td>0.052632</td>\n",
              "      <td>male</td>\n",
              "    </tr>\n",
              "    <tr>\n",
              "      <th>2</th>\n",
              "      <td>0.077316</td>\n",
              "      <td>0.083829</td>\n",
              "      <td>0.036718</td>\n",
              "      <td>0.008701</td>\n",
              "      <td>0.131908</td>\n",
              "      <td>0.123207</td>\n",
              "      <td>30.757155</td>\n",
              "      <td>1024.927705</td>\n",
              "      <td>0.846389</td>\n",
              "      <td>0.478905</td>\n",
              "      <td>...</td>\n",
              "      <td>0.077316</td>\n",
              "      <td>0.098706</td>\n",
              "      <td>0.015656</td>\n",
              "      <td>0.271186</td>\n",
              "      <td>0.007990</td>\n",
              "      <td>0.007812</td>\n",
              "      <td>0.015625</td>\n",
              "      <td>0.007812</td>\n",
              "      <td>0.046512</td>\n",
              "      <td>male</td>\n",
              "    </tr>\n",
              "    <tr>\n",
              "      <th>3</th>\n",
              "      <td>0.151228</td>\n",
              "      <td>0.072111</td>\n",
              "      <td>0.158011</td>\n",
              "      <td>0.096582</td>\n",
              "      <td>0.207955</td>\n",
              "      <td>0.111374</td>\n",
              "      <td>1.232831</td>\n",
              "      <td>4.177296</td>\n",
              "      <td>0.963322</td>\n",
              "      <td>0.727232</td>\n",
              "      <td>...</td>\n",
              "      <td>0.151228</td>\n",
              "      <td>0.088965</td>\n",
              "      <td>0.017798</td>\n",
              "      <td>0.250000</td>\n",
              "      <td>0.201497</td>\n",
              "      <td>0.007812</td>\n",
              "      <td>0.562500</td>\n",
              "      <td>0.554688</td>\n",
              "      <td>0.247119</td>\n",
              "      <td>male</td>\n",
              "    </tr>\n",
              "    <tr>\n",
              "      <th>4</th>\n",
              "      <td>0.135120</td>\n",
              "      <td>0.079146</td>\n",
              "      <td>0.124656</td>\n",
              "      <td>0.078720</td>\n",
              "      <td>0.206045</td>\n",
              "      <td>0.127325</td>\n",
              "      <td>1.101174</td>\n",
              "      <td>4.333713</td>\n",
              "      <td>0.971955</td>\n",
              "      <td>0.783568</td>\n",
              "      <td>...</td>\n",
              "      <td>0.135120</td>\n",
              "      <td>0.106398</td>\n",
              "      <td>0.016931</td>\n",
              "      <td>0.266667</td>\n",
              "      <td>0.712812</td>\n",
              "      <td>0.007812</td>\n",
              "      <td>5.484375</td>\n",
              "      <td>5.476562</td>\n",
              "      <td>0.208274</td>\n",
              "      <td>male</td>\n",
              "    </tr>\n",
              "    <tr>\n",
              "      <th>...</th>\n",
              "      <td>...</td>\n",
              "      <td>...</td>\n",
              "      <td>...</td>\n",
              "      <td>...</td>\n",
              "      <td>...</td>\n",
              "      <td>...</td>\n",
              "      <td>...</td>\n",
              "      <td>...</td>\n",
              "      <td>...</td>\n",
              "      <td>...</td>\n",
              "      <td>...</td>\n",
              "      <td>...</td>\n",
              "      <td>...</td>\n",
              "      <td>...</td>\n",
              "      <td>...</td>\n",
              "      <td>...</td>\n",
              "      <td>...</td>\n",
              "      <td>...</td>\n",
              "      <td>...</td>\n",
              "      <td>...</td>\n",
              "      <td>...</td>\n",
              "    </tr>\n",
              "    <tr>\n",
              "      <th>3163</th>\n",
              "      <td>0.131884</td>\n",
              "      <td>0.084734</td>\n",
              "      <td>0.153707</td>\n",
              "      <td>0.049285</td>\n",
              "      <td>0.201144</td>\n",
              "      <td>0.151859</td>\n",
              "      <td>1.762129</td>\n",
              "      <td>6.630383</td>\n",
              "      <td>0.962934</td>\n",
              "      <td>0.763182</td>\n",
              "      <td>...</td>\n",
              "      <td>0.131884</td>\n",
              "      <td>0.182790</td>\n",
              "      <td>0.083770</td>\n",
              "      <td>0.262295</td>\n",
              "      <td>0.832899</td>\n",
              "      <td>0.007812</td>\n",
              "      <td>4.210938</td>\n",
              "      <td>4.203125</td>\n",
              "      <td>0.161929</td>\n",
              "      <td>female</td>\n",
              "    </tr>\n",
              "    <tr>\n",
              "      <th>3164</th>\n",
              "      <td>0.116221</td>\n",
              "      <td>0.089221</td>\n",
              "      <td>0.076758</td>\n",
              "      <td>0.042718</td>\n",
              "      <td>0.204911</td>\n",
              "      <td>0.162193</td>\n",
              "      <td>0.693730</td>\n",
              "      <td>2.503954</td>\n",
              "      <td>0.960716</td>\n",
              "      <td>0.709570</td>\n",
              "      <td>...</td>\n",
              "      <td>0.116221</td>\n",
              "      <td>0.188980</td>\n",
              "      <td>0.034409</td>\n",
              "      <td>0.275862</td>\n",
              "      <td>0.909856</td>\n",
              "      <td>0.039062</td>\n",
              "      <td>3.679688</td>\n",
              "      <td>3.640625</td>\n",
              "      <td>0.277897</td>\n",
              "      <td>female</td>\n",
              "    </tr>\n",
              "    <tr>\n",
              "      <th>3165</th>\n",
              "      <td>0.142056</td>\n",
              "      <td>0.095798</td>\n",
              "      <td>0.183731</td>\n",
              "      <td>0.033424</td>\n",
              "      <td>0.224360</td>\n",
              "      <td>0.190936</td>\n",
              "      <td>1.876502</td>\n",
              "      <td>6.604509</td>\n",
              "      <td>0.946854</td>\n",
              "      <td>0.654196</td>\n",
              "      <td>...</td>\n",
              "      <td>0.142056</td>\n",
              "      <td>0.209918</td>\n",
              "      <td>0.039506</td>\n",
              "      <td>0.275862</td>\n",
              "      <td>0.494271</td>\n",
              "      <td>0.007812</td>\n",
              "      <td>2.937500</td>\n",
              "      <td>2.929688</td>\n",
              "      <td>0.194759</td>\n",
              "      <td>female</td>\n",
              "    </tr>\n",
              "    <tr>\n",
              "      <th>3166</th>\n",
              "      <td>0.143659</td>\n",
              "      <td>0.090628</td>\n",
              "      <td>0.184976</td>\n",
              "      <td>0.043508</td>\n",
              "      <td>0.219943</td>\n",
              "      <td>0.176435</td>\n",
              "      <td>1.591065</td>\n",
              "      <td>5.388298</td>\n",
              "      <td>0.950436</td>\n",
              "      <td>0.675470</td>\n",
              "      <td>...</td>\n",
              "      <td>0.143659</td>\n",
              "      <td>0.172375</td>\n",
              "      <td>0.034483</td>\n",
              "      <td>0.250000</td>\n",
              "      <td>0.791360</td>\n",
              "      <td>0.007812</td>\n",
              "      <td>3.593750</td>\n",
              "      <td>3.585938</td>\n",
              "      <td>0.311002</td>\n",
              "      <td>female</td>\n",
              "    </tr>\n",
              "    <tr>\n",
              "      <th>3167</th>\n",
              "      <td>0.165509</td>\n",
              "      <td>0.092884</td>\n",
              "      <td>0.183044</td>\n",
              "      <td>0.070072</td>\n",
              "      <td>0.250827</td>\n",
              "      <td>0.180756</td>\n",
              "      <td>1.705029</td>\n",
              "      <td>5.769115</td>\n",
              "      <td>0.938829</td>\n",
              "      <td>0.601529</td>\n",
              "      <td>...</td>\n",
              "      <td>0.165509</td>\n",
              "      <td>0.185607</td>\n",
              "      <td>0.062257</td>\n",
              "      <td>0.271186</td>\n",
              "      <td>0.227022</td>\n",
              "      <td>0.007812</td>\n",
              "      <td>0.554688</td>\n",
              "      <td>0.546875</td>\n",
              "      <td>0.350000</td>\n",
              "      <td>female</td>\n",
              "    </tr>\n",
              "  </tbody>\n",
              "</table>\n",
              "<p>3168 rows × 21 columns</p>\n",
              "</div>\n",
              "      <button class=\"colab-df-convert\" onclick=\"convertToInteractive('df-cc0f7bcf-2710-4c50-9040-267c1f91be44')\"\n",
              "              title=\"Convert this dataframe to an interactive table.\"\n",
              "              style=\"display:none;\">\n",
              "        \n",
              "  <svg xmlns=\"http://www.w3.org/2000/svg\" height=\"24px\"viewBox=\"0 0 24 24\"\n",
              "       width=\"24px\">\n",
              "    <path d=\"M0 0h24v24H0V0z\" fill=\"none\"/>\n",
              "    <path d=\"M18.56 5.44l.94 2.06.94-2.06 2.06-.94-2.06-.94-.94-2.06-.94 2.06-2.06.94zm-11 1L8.5 8.5l.94-2.06 2.06-.94-2.06-.94L8.5 2.5l-.94 2.06-2.06.94zm10 10l.94 2.06.94-2.06 2.06-.94-2.06-.94-.94-2.06-.94 2.06-2.06.94z\"/><path d=\"M17.41 7.96l-1.37-1.37c-.4-.4-.92-.59-1.43-.59-.52 0-1.04.2-1.43.59L10.3 9.45l-7.72 7.72c-.78.78-.78 2.05 0 2.83L4 21.41c.39.39.9.59 1.41.59.51 0 1.02-.2 1.41-.59l7.78-7.78 2.81-2.81c.8-.78.8-2.07 0-2.86zM5.41 20L4 18.59l7.72-7.72 1.47 1.35L5.41 20z\"/>\n",
              "  </svg>\n",
              "      </button>\n",
              "      \n",
              "  <style>\n",
              "    .colab-df-container {\n",
              "      display:flex;\n",
              "      flex-wrap:wrap;\n",
              "      gap: 12px;\n",
              "    }\n",
              "\n",
              "    .colab-df-convert {\n",
              "      background-color: #E8F0FE;\n",
              "      border: none;\n",
              "      border-radius: 50%;\n",
              "      cursor: pointer;\n",
              "      display: none;\n",
              "      fill: #1967D2;\n",
              "      height: 32px;\n",
              "      padding: 0 0 0 0;\n",
              "      width: 32px;\n",
              "    }\n",
              "\n",
              "    .colab-df-convert:hover {\n",
              "      background-color: #E2EBFA;\n",
              "      box-shadow: 0px 1px 2px rgba(60, 64, 67, 0.3), 0px 1px 3px 1px rgba(60, 64, 67, 0.15);\n",
              "      fill: #174EA6;\n",
              "    }\n",
              "\n",
              "    [theme=dark] .colab-df-convert {\n",
              "      background-color: #3B4455;\n",
              "      fill: #D2E3FC;\n",
              "    }\n",
              "\n",
              "    [theme=dark] .colab-df-convert:hover {\n",
              "      background-color: #434B5C;\n",
              "      box-shadow: 0px 1px 3px 1px rgba(0, 0, 0, 0.15);\n",
              "      filter: drop-shadow(0px 1px 2px rgba(0, 0, 0, 0.3));\n",
              "      fill: #FFFFFF;\n",
              "    }\n",
              "  </style>\n",
              "\n",
              "      <script>\n",
              "        const buttonEl =\n",
              "          document.querySelector('#df-cc0f7bcf-2710-4c50-9040-267c1f91be44 button.colab-df-convert');\n",
              "        buttonEl.style.display =\n",
              "          google.colab.kernel.accessAllowed ? 'block' : 'none';\n",
              "\n",
              "        async function convertToInteractive(key) {\n",
              "          const element = document.querySelector('#df-cc0f7bcf-2710-4c50-9040-267c1f91be44');\n",
              "          const dataTable =\n",
              "            await google.colab.kernel.invokeFunction('convertToInteractive',\n",
              "                                                     [key], {});\n",
              "          if (!dataTable) return;\n",
              "\n",
              "          const docLinkHtml = 'Like what you see? Visit the ' +\n",
              "            '<a target=\"_blank\" href=https://colab.research.google.com/notebooks/data_table.ipynb>data table notebook</a>'\n",
              "            + ' to learn more about interactive tables.';\n",
              "          element.innerHTML = '';\n",
              "          dataTable['output_type'] = 'display_data';\n",
              "          await google.colab.output.renderOutput(dataTable, element);\n",
              "          const docLink = document.createElement('div');\n",
              "          docLink.innerHTML = docLinkHtml;\n",
              "          element.appendChild(docLink);\n",
              "        }\n",
              "      </script>\n",
              "    </div>\n",
              "  </div>\n",
              "  "
            ]
          },
          "metadata": {},
          "execution_count": 11
        }
      ]
    },
    {
      "cell_type": "code",
      "source": [
        "\n",
        "d1 = df['label'].value_counts()\n",
        "d1"
      ],
      "metadata": {
        "colab": {
          "base_uri": "https://localhost:8080/"
        },
        "id": "hTgx5LoPwsrr",
        "outputId": "b7f3ef6e-ffcc-4ea0-ed44-357e66cfe1bb"
      },
      "execution_count": null,
      "outputs": [
        {
          "output_type": "execute_result",
          "data": {
            "text/plain": [
              "male      1584\n",
              "female    1584\n",
              "Name: label, dtype: int64"
            ]
          },
          "metadata": {},
          "execution_count": 12
        }
      ]
    },
    {
      "cell_type": "code",
      "source": [
        "#2)Depict percentage distribution of label on a pie chart"
      ],
      "metadata": {
        "id": "o6c1VzyOZtuO"
      },
      "execution_count": null,
      "outputs": []
    },
    {
      "cell_type": "code",
      "source": [
        "plt.figure(figsize=(10,8))\n",
        "plt.pie(x=d1, labels=d1.index,autopct='%.2f%%')\n",
        "plt.show()"
      ],
      "metadata": {
        "id": "9KXxythn0CCK",
        "colab": {
          "base_uri": "https://localhost:8080/",
          "height": 466
        },
        "outputId": "1712bab1-9621-402a-ce04-ff45f9d4f061"
      },
      "execution_count": null,
      "outputs": [
        {
          "output_type": "display_data",
          "data": {
            "text/plain": [
              "<Figure size 720x576 with 1 Axes>"
            ],
            "image/png": "[encoded data removed]"
          },
          "metadata": {}
        }
      ]
    },
    {
      "cell_type": "code",
      "source": [
        "x = df.iloc[:, :-1].values\n",
        "print(x)"
      ],
      "metadata": {
        "colab": {
          "base_uri": "https://localhost:8080/"
        },
        "id": "4xEbwILSp9fO",
        "outputId": "88cdf0e9-01c2-4a2e-b756-9ab589dc4502"
      },
      "execution_count": null,
      "outputs": [
        {
          "output_type": "stream",
          "name": "stdout",
          "text": [
            "[[0.05978098 0.06424127 0.03202691 ... 0.0078125  0.         0.        ]\n",
            " [0.06600874 0.06731003 0.04022873 ... 0.0546875  0.046875   0.05263158]\n",
            " [0.0773155  0.08382942 0.03671846 ... 0.015625   0.0078125  0.04651163]\n",
            " ...\n",
            " [0.14205626 0.09579843 0.18373124 ... 2.9375     2.9296875  0.19475862]\n",
            " [0.14365874 0.09062826 0.18497617 ... 3.59375    3.5859375  0.31100218]\n",
            " [0.16550895 0.09288354 0.18304392 ... 0.5546875  0.546875   0.35      ]]\n"
          ]
        }
      ]
    },
    {
      "cell_type": "code",
      "source": [
        "y = df.iloc[:, -1].values\n",
        "print(y)"
      ],
      "metadata": {
        "colab": {
          "base_uri": "https://localhost:8080/"
        },
        "id": "5RZ8erAUqN8Y",
        "outputId": "d2d9d1b8-054b-41d1-ed0d-9a77f4a5bb0d"
      },
      "execution_count": null,
      "outputs": [
        {
          "output_type": "stream",
          "name": "stdout",
          "text": [
            "['male' 'male' 'male' ... 'female' 'female' 'female']\n"
          ]
        }
      ]
    },
    {
      "cell_type": "code",
      "source": [
        "print(type(x))\n",
        "print(type(y))"
      ],
      "metadata": {
        "colab": {
          "base_uri": "https://localhost:8080/"
        },
        "id": "iySCZgiZuR_7",
        "outputId": "13eeccac-6cca-470e-af14-7a9c42329267"
      },
      "execution_count": null,
      "outputs": [
        {
          "output_type": "stream",
          "name": "stdout",
          "text": [
            "<class 'numpy.ndarray'>\n",
            "<class 'numpy.ndarray'>\n"
          ]
        }
      ]
    },
    {
      "cell_type": "code",
      "source": [
        "print(x.shape)\n",
        "print(y.shape)"
      ],
      "metadata": {
        "colab": {
          "base_uri": "https://localhost:8080/"
        },
        "id": "42hsOOuHuXJG",
        "outputId": "68be993e-cb94-41d3-f920-46ed3b8379a1"
      },
      "execution_count": null,
      "outputs": [
        {
          "output_type": "stream",
          "name": "stdout",
          "text": [
            "(3168, 20)\n",
            "(3168,)\n"
          ]
        }
      ]
    },
    {
      "cell_type": "code",
      "source": [
        "from sklearn.model_selection import train_test_split\n",
        "from sklearn.metrics import confusion_matrix,classification_report,accuracy_score"
      ],
      "metadata": {
        "id": "0lcx7zhJuYcQ"
      },
      "execution_count": null,
      "outputs": []
    },
    {
      "cell_type": "code",
      "source": [
        "def gen_cls_metrics(ytest,ypred):\n",
        "    print('Accuracy Score',accuracy_score(ytest,ypred))\n",
        "    cm = confusion_matrix(ytest,ypred)\n",
        "    print(cm)\n",
        "    print(classification_report(ytest,ypred))\n",
        "    \n",
        "def train_test_score(model):\n",
        "    print('Training Score',model.score(x_train,y_train))\n",
        "    print('Testing Score',model.score(x_test,y_test))"
      ],
      "metadata": {
        "id": "20U46zbhudf2"
      },
      "execution_count": null,
      "outputs": []
    },
    {
      "cell_type": "code",
      "source": [
        "#3)Considering all the features as independent feature and label as dependent feature,split the dataset \n",
        "#training and testing data with test size=20%"
      ],
      "metadata": {
        "id": "w8Yp5qXYZ3B5"
      },
      "execution_count": null,
      "outputs": []
    },
    {
      "cell_type": "code",
      "source": [
        "x_train,x_test,y_train,y_test = train_test_split(x,y,test_size=0.20)\n",
        "print(x_train.shape)\n",
        "print(x_test.shape)\n",
        "print(y_train.shape)\n",
        "print(y_test.shape)"
      ],
      "metadata": {
        "colab": {
          "base_uri": "https://localhost:8080/"
        },
        "id": "vAqGJex6ue8l",
        "outputId": "b84e2f31-9463-4c2d-a35c-2f396d1dbf33"
      },
      "execution_count": null,
      "outputs": [
        {
          "output_type": "stream",
          "name": "stdout",
          "text": [
            "(2534, 20)\n",
            "(634, 20)\n",
            "(2534,)\n",
            "(634,)\n"
          ]
        }
      ]
    },
    {
      "cell_type": "code",
      "source": [
        "#4)Apply the following classifier models on training dataset and generate predictions for the test dataset\n",
        "#a. Decision Tree Classifier\n",
        "#b. Random Forest Classifier\n",
        "#c. KNN Classifier\n",
        "#d. Logistic Regression\n",
        "#e. SVM Classifier\n",
        "\n",
        "#5)Also generate confusion_matrix and classification report for each model generated in Q4."
      ],
      "metadata": {
        "id": "SvM2f74ruilx"
      },
      "execution_count": null,
      "outputs": []
    },
    {
      "cell_type": "code",
      "source": [
        "#a. Decision Tree Classifier"
      ],
      "metadata": {
        "id": "0VeYBC44Z_xs"
      },
      "execution_count": null,
      "outputs": []
    },
    {
      "cell_type": "code",
      "source": [
        "from sklearn.tree import DecisionTreeClassifier"
      ],
      "metadata": {
        "id": "3u8jlgb5us_r"
      },
      "execution_count": null,
      "outputs": []
    },
    {
      "cell_type": "code",
      "source": [
        "m1 = DecisionTreeClassifier(criterion='gini',max_depth=10)\n",
        "m1.fit(x_train,y_train)"
      ],
      "metadata": {
        "colab": {
          "base_uri": "https://localhost:8080/"
        },
        "id": "e5mBs2Yvuu9_",
        "outputId": "0436ab58-4a1c-4714-ffb2-6322a65423cc"
      },
      "execution_count": null,
      "outputs": [
        {
          "output_type": "execute_result",
          "data": {
            "text/plain": [
              "DecisionTreeClassifier(max_depth=10)"
            ]
          },
          "metadata": {},
          "execution_count": 24
        }
      ]
    },
    {
      "cell_type": "code",
      "source": [
        "train_test_score(m1)"
      ],
      "metadata": {
        "colab": {
          "base_uri": "https://localhost:8080/"
        },
        "id": "UJMlOPtZu0Q4",
        "outputId": "0f728ab4-466a-4679-e5ab-f88273a11aa8"
      },
      "execution_count": null,
      "outputs": [
        {
          "output_type": "stream",
          "name": "stdout",
          "text": [
            "Training Score 0.9988161010260458\n",
            "Testing Score 0.9605678233438486\n"
          ]
        }
      ]
    },
    {
      "cell_type": "code",
      "source": [
        "ypred_m1 = m1.predict(x_test)\n",
        "print(ypred_m1)"
      ],
      "metadata": {
        "colab": {
          "base_uri": "https://localhost:8080/"
        },
        "id": "pnizIVqpu1s-",
        "outputId": "9c9f31a6-62ba-4441-de77-075f643bba19"
      },
      "execution_count": null,
      "outputs": [
        {
          "output_type": "stream",
          "name": "stdout",
          "text": [
            "['female' 'male' 'female' 'female' 'female' 'male' 'male' 'male' 'male'\n",
            " 'male' 'female' 'male' 'male' 'female' 'male' 'female' 'male' 'female'\n",
            " 'male' 'male' 'male' 'female' 'female' 'male' 'female' 'male' 'male'\n",
            " 'female' 'male' 'male' 'female' 'male' 'female' 'female' 'female'\n",
            " 'female' 'female' 'female' 'male' 'male' 'female' 'female' 'male' 'male'\n",
            " 'male' 'female' 'female' 'male' 'female' 'female' 'male' 'female'\n",
            " 'female' 'female' 'male' 'female' 'male' 'male' 'female' 'male' 'male'\n",
            " 'male' 'male' 'female' 'male' 'male' 'female' 'female' 'female' 'male'\n",
            " 'male' 'female' 'female' 'male' 'female' 'female' 'female' 'male' 'male'\n",
            " 'male' 'male' 'female' 'female' 'female' 'female' 'female' 'female'\n",
            " 'male' 'female' 'female' 'female' 'male' 'female' 'female' 'male'\n",
            " 'female' 'female' 'female' 'female' 'male' 'female' 'male' 'male'\n",
            " 'female' 'male' 'male' 'female' 'male' 'male' 'male' 'male' 'male' 'male'\n",
            " 'female' 'male' 'male' 'female' 'male' 'female' 'female' 'female'\n",
            " 'female' 'male' 'male' 'female' 'female' 'male' 'male' 'male' 'female'\n",
            " 'female' 'male' 'female' 'female' 'female' 'male' 'male' 'female' 'male'\n",
            " 'female' 'female' 'female' 'female' 'male' 'female' 'female' 'female'\n",
            " 'female' 'male' 'female' 'male' 'male' 'female' 'male' 'female' 'male'\n",
            " 'male' 'female' 'male' 'female' 'male' 'female' 'female' 'male' 'female'\n",
            " 'male' 'female' 'female' 'female' 'male' 'male' 'female' 'male' 'female'\n",
            " 'female' 'female' 'male' 'female' 'female' 'male' 'female' 'male'\n",
            " 'female' 'female' 'female' 'female' 'male' 'male' 'male' 'male' 'female'\n",
            " 'female' 'male' 'female' 'male' 'male' 'male' 'male' 'female' 'male'\n",
            " 'male' 'male' 'female' 'female' 'female' 'female' 'female' 'male'\n",
            " 'female' 'female' 'male' 'male' 'male' 'male' 'female' 'male' 'female'\n",
            " 'male' 'female' 'female' 'male' 'female' 'female' 'female' 'female'\n",
            " 'female' 'female' 'female' 'male' 'male' 'female' 'male' 'female' 'male'\n",
            " 'female' 'female' 'male' 'female' 'female' 'female' 'male' 'female'\n",
            " 'female' 'female' 'male' 'female' 'male' 'male' 'female' 'male' 'female'\n",
            " 'male' 'male' 'female' 'female' 'female' 'female' 'male' 'male' 'male'\n",
            " 'male' 'female' 'female' 'male' 'female' 'male' 'female' 'female' 'male'\n",
            " 'female' 'female' 'female' 'female' 'male' 'male' 'male' 'male' 'female'\n",
            " 'female' 'female' 'female' 'male' 'female' 'female' 'male' 'female'\n",
            " 'male' 'male' 'female' 'male' 'female' 'female' 'male' 'male' 'female'\n",
            " 'female' 'female' 'female' 'male' 'female' 'female' 'female' 'female'\n",
            " 'female' 'female' 'female' 'female' 'female' 'male' 'male' 'female'\n",
            " 'male' 'female' 'female' 'female' 'female' 'male' 'male' 'female' 'male'\n",
            " 'male' 'female' 'male' 'female' 'male' 'female' 'male' 'male' 'female'\n",
            " 'male' 'male' 'male' 'female' 'male' 'female' 'male' 'male' 'male'\n",
            " 'female' 'male' 'male' 'female' 'male' 'male' 'male' 'female' 'male'\n",
            " 'male' 'male' 'female' 'male' 'male' 'male' 'male' 'female' 'female'\n",
            " 'female' 'female' 'male' 'female' 'female' 'male' 'female' 'male' 'male'\n",
            " 'male' 'female' 'female' 'female' 'female' 'female' 'male' 'male' 'male'\n",
            " 'male' 'female' 'female' 'male' 'female' 'male' 'male' 'female' 'female'\n",
            " 'female' 'female' 'female' 'female' 'female' 'male' 'male' 'female'\n",
            " 'male' 'female' 'female' 'female' 'female' 'female' 'male' 'male' 'male'\n",
            " 'female' 'female' 'female' 'female' 'female' 'male' 'female' 'male'\n",
            " 'female' 'male' 'male' 'male' 'male' 'female' 'female' 'male' 'male'\n",
            " 'female' 'male' 'female' 'female' 'male' 'female' 'female' 'female'\n",
            " 'female' 'male' 'male' 'female' 'male' 'female' 'male' 'female' 'male'\n",
            " 'female' 'female' 'male' 'male' 'female' 'male' 'female' 'male' 'male'\n",
            " 'female' 'male' 'female' 'female' 'male' 'male' 'male' 'female' 'male'\n",
            " 'male' 'female' 'male' 'male' 'female' 'male' 'male' 'male' 'male'\n",
            " 'female' 'female' 'female' 'female' 'male' 'male' 'male' 'female' 'male'\n",
            " 'male' 'female' 'male' 'female' 'female' 'female' 'female' 'male'\n",
            " 'female' 'male' 'male' 'male' 'male' 'female' 'female' 'female' 'male'\n",
            " 'male' 'male' 'male' 'male' 'male' 'female' 'female' 'female' 'male'\n",
            " 'male' 'male' 'male' 'female' 'male' 'male' 'male' 'female' 'female'\n",
            " 'male' 'male' 'female' 'male' 'male' 'female' 'male' 'male' 'male'\n",
            " 'female' 'female' 'male' 'male' 'male' 'female' 'female' 'male' 'male'\n",
            " 'male' 'male' 'male' 'female' 'male' 'male' 'female' 'female' 'male'\n",
            " 'female' 'male' 'female' 'male' 'female' 'male' 'female' 'female' 'male'\n",
            " 'male' 'male' 'male' 'female' 'female' 'female' 'male' 'male' 'female'\n",
            " 'male' 'female' 'male' 'female' 'male' 'female' 'male' 'female' 'female'\n",
            " 'male' 'male' 'male' 'female' 'female' 'female' 'male' 'female' 'female'\n",
            " 'female' 'female' 'male' 'female' 'female' 'male' 'female' 'female'\n",
            " 'female' 'female' 'female' 'male' 'female' 'female' 'female' 'female'\n",
            " 'female' 'male' 'male' 'female' 'male' 'male' 'male' 'female' 'male'\n",
            " 'female' 'female' 'female' 'female' 'female' 'male' 'male' 'female'\n",
            " 'female' 'female' 'female' 'female' 'male' 'male' 'male' 'female'\n",
            " 'female' 'female' 'female' 'female' 'female' 'male' 'male' 'female'\n",
            " 'male' 'female' 'male' 'female' 'male' 'female' 'female' 'male' 'female'\n",
            " 'female' 'male' 'female' 'female' 'female' 'male' 'female' 'female']\n"
          ]
        }
      ]
    },
    {
      "cell_type": "code",
      "source": [
        "gen_cls_metrics(y_test,ypred_m1)"
      ],
      "metadata": {
        "colab": {
          "base_uri": "https://localhost:8080/"
        },
        "id": "s-dgPj2tu5yB",
        "outputId": "8e81f292-4cda-4c4e-c319-a31b12629e22"
      },
      "execution_count": null,
      "outputs": [
        {
          "output_type": "stream",
          "name": "stdout",
          "text": [
            "Accuracy Score 0.9605678233438486\n",
            "[[325  13]\n",
            " [ 12 284]]\n",
            "              precision    recall  f1-score   support\n",
            "\n",
            "      female       0.96      0.96      0.96       338\n",
            "        male       0.96      0.96      0.96       296\n",
            "\n",
            "    accuracy                           0.96       634\n",
            "   macro avg       0.96      0.96      0.96       634\n",
            "weighted avg       0.96      0.96      0.96       634\n",
            "\n"
          ]
        }
      ]
    },
    {
      "cell_type": "code",
      "source": [
        "gen_cls_metrics(y_test,ypred_m1)"
      ],
      "metadata": {
        "colab": {
          "base_uri": "https://localhost:8080/"
        },
        "id": "mMK5Ec2ju94I",
        "outputId": "9ce6193b-1a74-41a9-c9f9-ac1b996a0ff2"
      },
      "execution_count": null,
      "outputs": [
        {
          "output_type": "stream",
          "name": "stdout",
          "text": [
            "Accuracy Score 0.9605678233438486\n",
            "[[325  13]\n",
            " [ 12 284]]\n",
            "              precision    recall  f1-score   support\n",
            "\n",
            "      female       0.96      0.96      0.96       338\n",
            "        male       0.96      0.96      0.96       296\n",
            "\n",
            "    accuracy                           0.96       634\n",
            "   macro avg       0.96      0.96      0.96       634\n",
            "weighted avg       0.96      0.96      0.96       634\n",
            "\n"
          ]
        }
      ]
    },
    {
      "cell_type": "code",
      "source": [
        "#b. Random Forest Classifier"
      ],
      "metadata": {
        "id": "kcb4gKB3aMbq"
      },
      "execution_count": null,
      "outputs": []
    },
    {
      "cell_type": "code",
      "source": [
        "from sklearn.ensemble import RandomForestClassifier"
      ],
      "metadata": {
        "id": "uFYBFdBraU0z"
      },
      "execution_count": null,
      "outputs": []
    },
    {
      "cell_type": "code",
      "source": [
        "m2 = RandomForestClassifier(n_estimators=80,criterion='entropy',max_depth=10,min_samples_split=15)\n",
        "m2.fit(x_train,y_train)"
      ],
      "metadata": {
        "colab": {
          "base_uri": "https://localhost:8080/"
        },
        "id": "PvHu7L-pwwFt",
        "outputId": "7d13b1da-7a43-4eb5-8a31-f0036354aae5"
      },
      "execution_count": null,
      "outputs": [
        {
          "output_type": "execute_result",
          "data": {
            "text/plain": [
              "RandomForestClassifier(criterion='entropy', max_depth=10, min_samples_split=15,\n",
              "                       n_estimators=80)"
            ]
          },
          "metadata": {},
          "execution_count": 30
        }
      ]
    },
    {
      "cell_type": "code",
      "source": [
        "train_test_score(m2)"
      ],
      "metadata": {
        "id": "QkiOgHgR4zvg",
        "colab": {
          "base_uri": "https://localhost:8080/"
        },
        "outputId": "aecc0cdb-fea9-4d5a-ff6e-abfd4b899cd4"
      },
      "execution_count": null,
      "outputs": [
        {
          "output_type": "stream",
          "name": "stdout",
          "text": [
            "Training Score 0.9917127071823204\n",
            "Testing Score 0.9747634069400631\n"
          ]
        }
      ]
    },
    {
      "cell_type": "code",
      "source": [
        "ypred_m2 = m2.predict(x_test)\n",
        "print(ypred_m2)"
      ],
      "metadata": {
        "id": "FCVx6i-jxtN5",
        "colab": {
          "base_uri": "https://localhost:8080/"
        },
        "outputId": "3668b1f7-b9e0-4d43-d573-2c04bd7e3366"
      },
      "execution_count": null,
      "outputs": [
        {
          "output_type": "stream",
          "name": "stdout",
          "text": [
            "['female' 'male' 'female' 'female' 'female' 'male' 'male' 'male' 'male'\n",
            " 'male' 'female' 'male' 'male' 'female' 'male' 'female' 'male' 'male'\n",
            " 'male' 'male' 'male' 'female' 'female' 'male' 'female' 'male' 'male'\n",
            " 'female' 'male' 'male' 'female' 'male' 'female' 'female' 'female' 'male'\n",
            " 'female' 'female' 'male' 'male' 'female' 'female' 'male' 'male' 'male'\n",
            " 'female' 'female' 'male' 'female' 'female' 'female' 'female' 'female'\n",
            " 'female' 'male' 'female' 'male' 'male' 'female' 'male' 'male' 'male'\n",
            " 'male' 'female' 'male' 'male' 'female' 'female' 'female' 'male' 'male'\n",
            " 'female' 'female' 'female' 'female' 'female' 'female' 'male' 'male'\n",
            " 'male' 'male' 'female' 'female' 'female' 'female' 'female' 'female'\n",
            " 'male' 'female' 'female' 'female' 'male' 'female' 'female' 'male'\n",
            " 'female' 'female' 'female' 'female' 'male' 'male' 'male' 'male' 'female'\n",
            " 'male' 'male' 'female' 'male' 'male' 'female' 'male' 'male' 'male'\n",
            " 'female' 'male' 'male' 'female' 'female' 'female' 'female' 'female'\n",
            " 'female' 'male' 'male' 'female' 'female' 'male' 'male' 'male' 'female'\n",
            " 'female' 'male' 'female' 'female' 'female' 'male' 'male' 'female' 'male'\n",
            " 'female' 'female' 'female' 'female' 'male' 'female' 'female' 'female'\n",
            " 'female' 'male' 'female' 'male' 'male' 'female' 'male' 'female' 'female'\n",
            " 'male' 'female' 'male' 'female' 'male' 'female' 'female' 'male' 'female'\n",
            " 'male' 'female' 'female' 'female' 'male' 'male' 'female' 'male' 'female'\n",
            " 'female' 'female' 'male' 'female' 'female' 'male' 'female' 'male'\n",
            " 'female' 'female' 'female' 'female' 'male' 'male' 'male' 'male' 'female'\n",
            " 'female' 'female' 'female' 'male' 'male' 'male' 'male' 'female' 'male'\n",
            " 'male' 'male' 'female' 'female' 'female' 'male' 'female' 'male' 'female'\n",
            " 'female' 'male' 'male' 'male' 'male' 'female' 'female' 'female' 'male'\n",
            " 'female' 'female' 'male' 'female' 'female' 'female' 'female' 'female'\n",
            " 'female' 'female' 'male' 'male' 'female' 'male' 'female' 'male' 'female'\n",
            " 'female' 'male' 'female' 'female' 'female' 'male' 'female' 'female'\n",
            " 'female' 'male' 'female' 'male' 'male' 'female' 'male' 'female' 'male'\n",
            " 'male' 'female' 'female' 'female' 'female' 'male' 'male' 'male' 'male'\n",
            " 'male' 'female' 'male' 'female' 'male' 'female' 'male' 'male' 'female'\n",
            " 'female' 'female' 'female' 'male' 'male' 'male' 'male' 'female' 'female'\n",
            " 'female' 'female' 'male' 'female' 'female' 'male' 'female' 'male' 'male'\n",
            " 'female' 'male' 'female' 'female' 'male' 'male' 'female' 'female'\n",
            " 'female' 'female' 'female' 'female' 'female' 'male' 'female' 'female'\n",
            " 'female' 'female' 'female' 'female' 'male' 'male' 'female' 'male'\n",
            " 'female' 'female' 'female' 'female' 'male' 'male' 'female' 'male' 'male'\n",
            " 'female' 'male' 'female' 'male' 'female' 'male' 'male' 'female' 'male'\n",
            " 'male' 'male' 'female' 'male' 'female' 'male' 'male' 'male' 'female'\n",
            " 'male' 'male' 'female' 'male' 'male' 'male' 'female' 'male' 'male' 'male'\n",
            " 'female' 'male' 'male' 'male' 'male' 'female' 'female' 'male' 'female'\n",
            " 'male' 'female' 'female' 'male' 'female' 'male' 'male' 'male' 'female'\n",
            " 'female' 'female' 'female' 'female' 'male' 'male' 'male' 'male' 'female'\n",
            " 'female' 'male' 'female' 'male' 'male' 'female' 'female' 'female'\n",
            " 'female' 'female' 'female' 'female' 'male' 'male' 'female' 'male'\n",
            " 'female' 'female' 'female' 'female' 'female' 'male' 'male' 'male'\n",
            " 'female' 'male' 'female' 'female' 'female' 'male' 'female' 'male'\n",
            " 'female' 'male' 'male' 'male' 'male' 'female' 'female' 'male' 'male'\n",
            " 'female' 'male' 'female' 'female' 'male' 'female' 'female' 'male'\n",
            " 'female' 'male' 'male' 'female' 'male' 'female' 'male' 'female' 'male'\n",
            " 'female' 'female' 'male' 'male' 'female' 'male' 'female' 'male' 'male'\n",
            " 'female' 'male' 'male' 'female' 'male' 'male' 'male' 'female' 'female'\n",
            " 'male' 'female' 'male' 'male' 'female' 'male' 'male' 'male' 'male'\n",
            " 'female' 'female' 'female' 'female' 'male' 'male' 'male' 'female' 'male'\n",
            " 'male' 'female' 'male' 'female' 'female' 'female' 'female' 'male'\n",
            " 'female' 'male' 'male' 'male' 'male' 'female' 'female' 'female' 'male'\n",
            " 'male' 'male' 'male' 'male' 'male' 'female' 'female' 'female' 'male'\n",
            " 'male' 'male' 'male' 'female' 'male' 'male' 'male' 'female' 'female'\n",
            " 'male' 'male' 'female' 'male' 'male' 'female' 'male' 'male' 'male'\n",
            " 'female' 'female' 'male' 'male' 'male' 'female' 'female' 'male' 'male'\n",
            " 'male' 'male' 'male' 'female' 'male' 'male' 'female' 'female' 'male'\n",
            " 'female' 'male' 'female' 'male' 'female' 'male' 'female' 'male' 'female'\n",
            " 'male' 'male' 'male' 'female' 'female' 'female' 'male' 'male' 'female'\n",
            " 'male' 'female' 'male' 'female' 'male' 'female' 'male' 'female' 'female'\n",
            " 'male' 'male' 'male' 'female' 'female' 'female' 'male' 'female' 'female'\n",
            " 'female' 'female' 'male' 'female' 'female' 'male' 'female' 'female'\n",
            " 'female' 'female' 'female' 'female' 'female' 'female' 'female' 'female'\n",
            " 'female' 'male' 'male' 'female' 'male' 'male' 'male' 'female' 'male'\n",
            " 'female' 'female' 'female' 'female' 'female' 'male' 'male' 'female'\n",
            " 'female' 'female' 'female' 'female' 'male' 'male' 'male' 'female'\n",
            " 'female' 'female' 'female' 'female' 'female' 'male' 'male' 'female'\n",
            " 'male' 'female' 'male' 'female' 'male' 'female' 'female' 'male' 'female'\n",
            " 'female' 'male' 'female' 'female' 'female' 'male' 'female' 'female']\n"
          ]
        }
      ]
    },
    {
      "cell_type": "code",
      "source": [
        "gen_cls_metrics(y_test,ypred_m2)"
      ],
      "metadata": {
        "colab": {
          "base_uri": "https://localhost:8080/"
        },
        "id": "NWElvJCWw_gR",
        "outputId": "3bfab16b-a652-4a09-e633-5b618350ded1"
      },
      "execution_count": null,
      "outputs": [
        {
          "output_type": "stream",
          "name": "stdout",
          "text": [
            "Accuracy Score 0.9747634069400631\n",
            "[[329   9]\n",
            " [  7 289]]\n",
            "              precision    recall  f1-score   support\n",
            "\n",
            "      female       0.98      0.97      0.98       338\n",
            "        male       0.97      0.98      0.97       296\n",
            "\n",
            "    accuracy                           0.97       634\n",
            "   macro avg       0.97      0.97      0.97       634\n",
            "weighted avg       0.97      0.97      0.97       634\n",
            "\n"
          ]
        }
      ]
    },
    {
      "cell_type": "code",
      "source": [
        "#c. KNN Classifier"
      ],
      "metadata": {
        "id": "OvpWOZHBxuRF"
      },
      "execution_count": null,
      "outputs": []
    },
    {
      "cell_type": "code",
      "source": [
        "from sklearn.neighbors import KNeighborsClassifier"
      ],
      "metadata": {
        "id": "4v75_L1oxzOb"
      },
      "execution_count": null,
      "outputs": []
    },
    {
      "cell_type": "code",
      "source": [
        "m3 = KNeighborsClassifier(n_neighbors=47)\n",
        "m3.fit(x_train,y_train)"
      ],
      "metadata": {
        "colab": {
          "base_uri": "https://localhost:8080/"
        },
        "id": "2QYai7Rgbmj-",
        "outputId": "8da175ef-d776-414d-9bb2-640a0ff1e702"
      },
      "execution_count": null,
      "outputs": [
        {
          "output_type": "execute_result",
          "data": {
            "text/plain": [
              "KNeighborsClassifier(n_neighbors=47)"
            ]
          },
          "metadata": {},
          "execution_count": 36
        }
      ]
    },
    {
      "cell_type": "code",
      "source": [
        "train_test_score(m3)"
      ],
      "metadata": {
        "colab": {
          "base_uri": "https://localhost:8080/"
        },
        "id": "XQFOIXEbboNr",
        "outputId": "0131b621-c657-4f17-b51f-dfcf5b046bd0"
      },
      "execution_count": null,
      "outputs": [
        {
          "output_type": "stream",
          "name": "stdout",
          "text": [
            "Training Score 0.7032359905288083\n",
            "Testing Score 0.6908517350157729\n"
          ]
        }
      ]
    },
    {
      "cell_type": "code",
      "source": [
        "ypred_m3 = m3.predict(x_test)\n",
        "print(ypred_m3)"
      ],
      "metadata": {
        "colab": {
          "base_uri": "https://localhost:8080/"
        },
        "id": "d1Cc5oO-bsL7",
        "outputId": "605e650d-4ad0-4612-f870-8a2b26c188cb"
      },
      "execution_count": null,
      "outputs": [
        {
          "output_type": "stream",
          "name": "stdout",
          "text": [
            "['female' 'male' 'male' 'female' 'female' 'male' 'female' 'male' 'male'\n",
            " 'male' 'female' 'male' 'male' 'male' 'female' 'female' 'male' 'female'\n",
            " 'male' 'male' 'male' 'male' 'male' 'male' 'female' 'female' 'male' 'male'\n",
            " 'male' 'female' 'male' 'male' 'female' 'female' 'male' 'female' 'male'\n",
            " 'female' 'male' 'female' 'female' 'female' 'male' 'male' 'female'\n",
            " 'female' 'female' 'male' 'female' 'female' 'male' 'female' 'female'\n",
            " 'female' 'male' 'female' 'male' 'male' 'female' 'male' 'male' 'male'\n",
            " 'male' 'female' 'male' 'male' 'male' 'male' 'male' 'male' 'male' 'female'\n",
            " 'female' 'female' 'male' 'male' 'female' 'male' 'male' 'male' 'male'\n",
            " 'male' 'male' 'male' 'female' 'female' 'male' 'male' 'female' 'female'\n",
            " 'male' 'female' 'female' 'female' 'female' 'female' 'female' 'male'\n",
            " 'male' 'male' 'male' 'female' 'female' 'male' 'female' 'male' 'male'\n",
            " 'male' 'male' 'female' 'male' 'female' 'male' 'female' 'male' 'male'\n",
            " 'male' 'male' 'female' 'male' 'female' 'male' 'male' 'male' 'female'\n",
            " 'female' 'male' 'male' 'male' 'female' 'female' 'male' 'female' 'male'\n",
            " 'male' 'male' 'male' 'female' 'male' 'male' 'male' 'female' 'female'\n",
            " 'male' 'female' 'male' 'female' 'female' 'male' 'male' 'male' 'male'\n",
            " 'female' 'male' 'female' 'female' 'male' 'male' 'male' 'female' 'male'\n",
            " 'female' 'female' 'male' 'female' 'male' 'female' 'male' 'male' 'female'\n",
            " 'female' 'male' 'male' 'male' 'female' 'male' 'male' 'female' 'female'\n",
            " 'male' 'female' 'male' 'male' 'male' 'male' 'female' 'male' 'male'\n",
            " 'female' 'male' 'female' 'male' 'female' 'female' 'male' 'male' 'female'\n",
            " 'male' 'male' 'male' 'male' 'female' 'male' 'male' 'male' 'male' 'male'\n",
            " 'male' 'female' 'male' 'female' 'female' 'male' 'male' 'female' 'female'\n",
            " 'female' 'female' 'male' 'female' 'male' 'male' 'female' 'female' 'male'\n",
            " 'male' 'female' 'female' 'male' 'male' 'female' 'female' 'female' 'male'\n",
            " 'male' 'female' 'male' 'female' 'female' 'male' 'female' 'female' 'male'\n",
            " 'female' 'male' 'female' 'male' 'female' 'female' 'male' 'female'\n",
            " 'female' 'male' 'female' 'female' 'female' 'female' 'male' 'female'\n",
            " 'female' 'male' 'female' 'female' 'male' 'female' 'male' 'female' 'male'\n",
            " 'male' 'female' 'female' 'female' 'female' 'male' 'male' 'male' 'female'\n",
            " 'female' 'female' 'female' 'female' 'male' 'female' 'male' 'male'\n",
            " 'female' 'male' 'male' 'female' 'male' 'male' 'female' 'male' 'male'\n",
            " 'female' 'male' 'male' 'female' 'female' 'male' 'female' 'male' 'female'\n",
            " 'female' 'female' 'female' 'male' 'male' 'male' 'male' 'male' 'male'\n",
            " 'male' 'male' 'female' 'male' 'male' 'female' 'male' 'female' 'male'\n",
            " 'female' 'male' 'female' 'male' 'female' 'male' 'male' 'female' 'female'\n",
            " 'male' 'male' 'male' 'male' 'male' 'male' 'male' 'male' 'female' 'female'\n",
            " 'male' 'female' 'male' 'female' 'female' 'female' 'male' 'male' 'male'\n",
            " 'male' 'male' 'female' 'male' 'male' 'male' 'female' 'female' 'female'\n",
            " 'male' 'female' 'male' 'male' 'male' 'male' 'male' 'male' 'male' 'female'\n",
            " 'male' 'male' 'female' 'male' 'male' 'female' 'male' 'male' 'female'\n",
            " 'male' 'female' 'female' 'male' 'male' 'female' 'female' 'female'\n",
            " 'female' 'female' 'female' 'male' 'male' 'female' 'female' 'female'\n",
            " 'male' 'male' 'female' 'male' 'male' 'male' 'female' 'female' 'male'\n",
            " 'male' 'female' 'male' 'male' 'female' 'male' 'male' 'male' 'female'\n",
            " 'male' 'male' 'female' 'female' 'male' 'male' 'female' 'male' 'female'\n",
            " 'female' 'female' 'male' 'male' 'male' 'female' 'male' 'male' 'female'\n",
            " 'male' 'female' 'male' 'male' 'male' 'male' 'male' 'female' 'male' 'male'\n",
            " 'male' 'male' 'male' 'male' 'male' 'female' 'female' 'male' 'male' 'male'\n",
            " 'female' 'male' 'male' 'female' 'male' 'male' 'male' 'female' 'male'\n",
            " 'male' 'male' 'male' 'female' 'male' 'female' 'female' 'male' 'male'\n",
            " 'male' 'male' 'female' 'female' 'female' 'male' 'female' 'female' 'male'\n",
            " 'male' 'male' 'female' 'male' 'male' 'male' 'male' 'female' 'female'\n",
            " 'male' 'male' 'male' 'female' 'male' 'female' 'male' 'female' 'male'\n",
            " 'male' 'male' 'male' 'male' 'male' 'male' 'male' 'female' 'male' 'male'\n",
            " 'female' 'male' 'male' 'female' 'male' 'male' 'female' 'male' 'female'\n",
            " 'male' 'male' 'male' 'male' 'male' 'male' 'female' 'male' 'male' 'male'\n",
            " 'female' 'male' 'male' 'female' 'male' 'female' 'female' 'female' 'male'\n",
            " 'female' 'female' 'female' 'male' 'female' 'male' 'female' 'male'\n",
            " 'female' 'male' 'male' 'male' 'female' 'male' 'male' 'male' 'female'\n",
            " 'female' 'male' 'female' 'male' 'female' 'male' 'female' 'female'\n",
            " 'female' 'male' 'male' 'male' 'male' 'male' 'female' 'female' 'male'\n",
            " 'female' 'female' 'male' 'female' 'male' 'female' 'male' 'male' 'male'\n",
            " 'male' 'female' 'female' 'female' 'female' 'female' 'female' 'female'\n",
            " 'female' 'female' 'male' 'female' 'male' 'male' 'female' 'male' 'male'\n",
            " 'male' 'female' 'male' 'female' 'female' 'male' 'male' 'male' 'male'\n",
            " 'male' 'female' 'male' 'male' 'male' 'male' 'female' 'female' 'male'\n",
            " 'male' 'female' 'female' 'male' 'male' 'male' 'female' 'female' 'female'\n",
            " 'male' 'female' 'male' 'female' 'female' 'male' 'female' 'male' 'male'\n",
            " 'male' 'male' 'female' 'female' 'female' 'female']\n"
          ]
        }
      ]
    },
    {
      "cell_type": "code",
      "source": [
        "gen_cls_metrics(y_test,ypred_m3)"
      ],
      "metadata": {
        "colab": {
          "base_uri": "https://localhost:8080/"
        },
        "id": "PWOa9VqLbyY_",
        "outputId": "90d566c7-c659-44e8-face-c2848b8c7336"
      },
      "execution_count": null,
      "outputs": [
        {
          "output_type": "stream",
          "name": "stdout",
          "text": [
            "Accuracy Score 0.6908517350157729\n",
            "[[206 132]\n",
            " [ 64 232]]\n",
            "              precision    recall  f1-score   support\n",
            "\n",
            "      female       0.76      0.61      0.68       338\n",
            "        male       0.64      0.78      0.70       296\n",
            "\n",
            "    accuracy                           0.69       634\n",
            "   macro avg       0.70      0.70      0.69       634\n",
            "weighted avg       0.70      0.69      0.69       634\n",
            "\n"
          ]
        }
      ]
    },
    {
      "cell_type": "code",
      "source": [
        ""
      ],
      "metadata": {
        "id": "5FzuX7_mpAXw"
      },
      "execution_count": null,
      "outputs": []
    },
    {
      "cell_type": "code",
      "source": [
        "#d. Logistic Regression"
      ],
      "metadata": {
        "id": "lkcN09fAb2K3"
      },
      "execution_count": null,
      "outputs": []
    },
    {
      "cell_type": "code",
      "source": [
        "from sklearn.linear_model import LogisticRegression"
      ],
      "metadata": {
        "id": "kFEV2N-T41WV"
      },
      "execution_count": null,
      "outputs": []
    },
    {
      "cell_type": "code",
      "source": [
        "m4 = LogisticRegression(max_iter=10000)\n",
        "m4.fit(x_train,y_train)"
      ],
      "metadata": {
        "colab": {
          "base_uri": "https://localhost:8080/"
        },
        "id": "t8S6VBAC425P",
        "outputId": "6f714d74-5770-4e28-bf97-b49224a33734"
      },
      "execution_count": null,
      "outputs": [
        {
          "output_type": "execute_result",
          "data": {
            "text/plain": [
              "LogisticRegression(max_iter=10000)"
            ]
          },
          "metadata": {},
          "execution_count": 42
        }
      ]
    },
    {
      "cell_type": "code",
      "source": [
        "train_test_score(m4)"
      ],
      "metadata": {
        "colab": {
          "base_uri": "https://localhost:8080/"
        },
        "id": "5LjRXt5D46oA",
        "outputId": "d8390bd9-65bc-4a05-b1ed-13c244faa049"
      },
      "execution_count": null,
      "outputs": [
        {
          "output_type": "stream",
          "name": "stdout",
          "text": [
            "Training Score 0.9112075769534334\n",
            "Testing Score 0.8958990536277602\n"
          ]
        }
      ]
    },
    {
      "cell_type": "code",
      "source": [
        "ypred_m4 = m4.predict(x_test)\n",
        "print(ypred_m4)"
      ],
      "metadata": {
        "colab": {
          "base_uri": "https://localhost:8080/"
        },
        "id": "FXgKXJDv4-MR",
        "outputId": "5b0a8e13-128e-4ce9-e138-d837c2588c6d"
      },
      "execution_count": null,
      "outputs": [
        {
          "output_type": "stream",
          "name": "stdout",
          "text": [
            "['female' 'male' 'male' 'female' 'female' 'male' 'male' 'male' 'male'\n",
            " 'male' 'female' 'male' 'male' 'female' 'male' 'female' 'male' 'male'\n",
            " 'male' 'male' 'male' 'male' 'female' 'male' 'female' 'male' 'male'\n",
            " 'female' 'male' 'male' 'female' 'male' 'female' 'female' 'male' 'male'\n",
            " 'female' 'female' 'male' 'male' 'female' 'female' 'male' 'male' 'male'\n",
            " 'female' 'female' 'male' 'female' 'female' 'female' 'female' 'female'\n",
            " 'female' 'male' 'female' 'male' 'male' 'female' 'male' 'male' 'male'\n",
            " 'male' 'female' 'male' 'male' 'female' 'male' 'female' 'male' 'male'\n",
            " 'female' 'female' 'female' 'female' 'male' 'female' 'male' 'male' 'male'\n",
            " 'male' 'male' 'female' 'male' 'female' 'female' 'female' 'male' 'female'\n",
            " 'female' 'female' 'male' 'female' 'female' 'male' 'female' 'female'\n",
            " 'female' 'male' 'male' 'male' 'male' 'male' 'female' 'male' 'male' 'male'\n",
            " 'male' 'male' 'female' 'male' 'male' 'male' 'female' 'male' 'male'\n",
            " 'female' 'male' 'female' 'female' 'female' 'female' 'male' 'male' 'male'\n",
            " 'female' 'male' 'male' 'male' 'female' 'female' 'male' 'female' 'female'\n",
            " 'male' 'male' 'male' 'female' 'male' 'male' 'male' 'female' 'female'\n",
            " 'male' 'female' 'female' 'female' 'female' 'male' 'female' 'male' 'male'\n",
            " 'female' 'male' 'female' 'male' 'male' 'female' 'male' 'female' 'male'\n",
            " 'female' 'female' 'male' 'female' 'male' 'female' 'female' 'male' 'male'\n",
            " 'male' 'female' 'male' 'female' 'female' 'female' 'male' 'female'\n",
            " 'female' 'male' 'female' 'male' 'female' 'male' 'female' 'female' 'male'\n",
            " 'male' 'male' 'male' 'female' 'male' 'female' 'female' 'male' 'male'\n",
            " 'female' 'male' 'female' 'male' 'male' 'male' 'female' 'male' 'female'\n",
            " 'male' 'female' 'male' 'female' 'female' 'male' 'male' 'male' 'male'\n",
            " 'male' 'female' 'female' 'male' 'female' 'female' 'male' 'female' 'male'\n",
            " 'female' 'male' 'female' 'female' 'female' 'male' 'male' 'female' 'male'\n",
            " 'female' 'male' 'female' 'female' 'male' 'female' 'female' 'male' 'male'\n",
            " 'female' 'female' 'female' 'male' 'male' 'male' 'male' 'female' 'male'\n",
            " 'female' 'male' 'male' 'male' 'female' 'female' 'female' 'male' 'male'\n",
            " 'male' 'male' 'female' 'female' 'male' 'female' 'male' 'female' 'male'\n",
            " 'male' 'female' 'female' 'female' 'female' 'male' 'male' 'male' 'male'\n",
            " 'male' 'female' 'female' 'female' 'male' 'female' 'female' 'male'\n",
            " 'female' 'male' 'male' 'female' 'male' 'male' 'female' 'male' 'male'\n",
            " 'female' 'male' 'female' 'female' 'female' 'male' 'female' 'male'\n",
            " 'female' 'female' 'female' 'female' 'female' 'male' 'male' 'male' 'male'\n",
            " 'male' 'male' 'female' 'female' 'female' 'male' 'male' 'male' 'male'\n",
            " 'male' 'female' 'male' 'female' 'male' 'female' 'male' 'male' 'female'\n",
            " 'male' 'male' 'male' 'male' 'male' 'female' 'male' 'male' 'male' 'female'\n",
            " 'male' 'male' 'female' 'male' 'male' 'male' 'female' 'male' 'male' 'male'\n",
            " 'female' 'male' 'male' 'male' 'male' 'female' 'female' 'male' 'female'\n",
            " 'male' 'female' 'female' 'male' 'female' 'male' 'male' 'male' 'male'\n",
            " 'female' 'male' 'female' 'female' 'male' 'male' 'male' 'male' 'female'\n",
            " 'female' 'male' 'female' 'male' 'male' 'female' 'female' 'female'\n",
            " 'female' 'female' 'female' 'female' 'male' 'male' 'female' 'male'\n",
            " 'female' 'female' 'male' 'female' 'female' 'male' 'male' 'male' 'female'\n",
            " 'male' 'female' 'male' 'male' 'male' 'female' 'male' 'female' 'male'\n",
            " 'male' 'male' 'male' 'female' 'female' 'male' 'male' 'female' 'male'\n",
            " 'male' 'female' 'male' 'female' 'female' 'female' 'female' 'male' 'male'\n",
            " 'female' 'male' 'female' 'male' 'female' 'male' 'male' 'male' 'male'\n",
            " 'male' 'male' 'male' 'female' 'male' 'male' 'female' 'male' 'male'\n",
            " 'female' 'male' 'male' 'male' 'male' 'female' 'male' 'male' 'male' 'male'\n",
            " 'female' 'male' 'male' 'male' 'male' 'female' 'female' 'female' 'female'\n",
            " 'male' 'male' 'male' 'male' 'male' 'male' 'female' 'male' 'female'\n",
            " 'female' 'female' 'female' 'male' 'female' 'male' 'male' 'male' 'male'\n",
            " 'female' 'female' 'male' 'male' 'male' 'male' 'male' 'male' 'male'\n",
            " 'female' 'female' 'female' 'male' 'male' 'male' 'male' 'female' 'male'\n",
            " 'male' 'male' 'female' 'female' 'male' 'male' 'female' 'male' 'male'\n",
            " 'female' 'male' 'male' 'male' 'female' 'female' 'male' 'male' 'male'\n",
            " 'female' 'female' 'male' 'male' 'male' 'male' 'male' 'female' 'male'\n",
            " 'male' 'female' 'female' 'male' 'female' 'male' 'female' 'male' 'female'\n",
            " 'male' 'female' 'male' 'female' 'male' 'male' 'male' 'female' 'female'\n",
            " 'female' 'male' 'female' 'female' 'male' 'female' 'male' 'female' 'male'\n",
            " 'female' 'male' 'female' 'female' 'male' 'male' 'male' 'male' 'female'\n",
            " 'female' 'male' 'female' 'female' 'female' 'female' 'male' 'male' 'male'\n",
            " 'male' 'female' 'male' 'female' 'female' 'male' 'male' 'female' 'female'\n",
            " 'female' 'female' 'female' 'male' 'male' 'male' 'male' 'male' 'male'\n",
            " 'female' 'male' 'female' 'female' 'female' 'female' 'female' 'male'\n",
            " 'male' 'female' 'female' 'female' 'female' 'female' 'male' 'male' 'male'\n",
            " 'female' 'male' 'female' 'female' 'female' 'female' 'male' 'male'\n",
            " 'female' 'male' 'female' 'male' 'female' 'male' 'female' 'female' 'male'\n",
            " 'female' 'male' 'male' 'female' 'female' 'female' 'male' 'female'\n",
            " 'female']\n"
          ]
        }
      ]
    },
    {
      "cell_type": "code",
      "source": [
        "gen_cls_metrics(y_test,ypred_m4)"
      ],
      "metadata": {
        "colab": {
          "base_uri": "https://localhost:8080/"
        },
        "id": "wz7RnOGN5C4c",
        "outputId": "6c148818-ebce-46b9-d72f-9d6a49b1a2e6"
      },
      "execution_count": null,
      "outputs": [
        {
          "output_type": "stream",
          "name": "stdout",
          "text": [
            "Accuracy Score 0.8958990536277602\n",
            "[[278  60]\n",
            " [  6 290]]\n",
            "              precision    recall  f1-score   support\n",
            "\n",
            "      female       0.98      0.82      0.89       338\n",
            "        male       0.83      0.98      0.90       296\n",
            "\n",
            "    accuracy                           0.90       634\n",
            "   macro avg       0.90      0.90      0.90       634\n",
            "weighted avg       0.91      0.90      0.90       634\n",
            "\n"
          ]
        }
      ]
    },
    {
      "cell_type": "code",
      "source": [
        "#e. SVM Classifier"
      ],
      "metadata": {
        "id": "tbWGqwOX5GmS"
      },
      "execution_count": null,
      "outputs": []
    },
    {
      "cell_type": "code",
      "source": [
        "from sklearn.svm import SVC"
      ],
      "metadata": {
        "id": "owpsbIh_5Jvc"
      },
      "execution_count": null,
      "outputs": []
    },
    {
      "cell_type": "code",
      "source": [
        "m5 = SVC(kernel='linear',C=1)\n",
        "m5.fit(x_train,y_train)"
      ],
      "metadata": {
        "colab": {
          "base_uri": "https://localhost:8080/"
        },
        "id": "nMaDv9IA5M9P",
        "outputId": "a8c3791f-c957-4e84-f5c2-ac044d5291eb"
      },
      "execution_count": null,
      "outputs": [
        {
          "output_type": "execute_result",
          "data": {
            "text/plain": [
              "SVC(C=1, kernel='linear')"
            ]
          },
          "metadata": {},
          "execution_count": 47
        }
      ]
    },
    {
      "cell_type": "code",
      "source": [
        "train_test_score(m5)"
      ],
      "metadata": {
        "colab": {
          "base_uri": "https://localhost:8080/"
        },
        "id": "HTmtPmcb5RLD",
        "outputId": "1a94a4cf-64a1-4636-e233-b448ad8eb5fb"
      },
      "execution_count": null,
      "outputs": [
        {
          "output_type": "stream",
          "name": "stdout",
          "text": [
            "Training Score 0.9230465666929756\n",
            "Testing Score 0.9037854889589906\n"
          ]
        }
      ]
    },
    {
      "cell_type": "code",
      "source": [
        "ypred_m5 = m5.predict(x_test)\n",
        "print(ypred_m5)"
      ],
      "metadata": {
        "colab": {
          "base_uri": "https://localhost:8080/"
        },
        "id": "T1uIG_qJ5UiG",
        "outputId": "78d53dfb-7fea-4ca5-cb87-0cf327162581"
      },
      "execution_count": null,
      "outputs": [
        {
          "output_type": "stream",
          "name": "stdout",
          "text": [
            "['female' 'male' 'male' 'female' 'female' 'male' 'male' 'male' 'male'\n",
            " 'male' 'female' 'male' 'male' 'female' 'male' 'female' 'male' 'male'\n",
            " 'male' 'male' 'male' 'male' 'female' 'male' 'female' 'male' 'male' 'male'\n",
            " 'male' 'male' 'female' 'male' 'female' 'female' 'male' 'male' 'female'\n",
            " 'female' 'male' 'male' 'female' 'female' 'male' 'male' 'male' 'female'\n",
            " 'female' 'male' 'female' 'female' 'female' 'female' 'female' 'female'\n",
            " 'male' 'female' 'male' 'male' 'female' 'male' 'male' 'male' 'male'\n",
            " 'female' 'male' 'male' 'female' 'male' 'female' 'male' 'male' 'female'\n",
            " 'female' 'female' 'female' 'male' 'female' 'male' 'male' 'male' 'male'\n",
            " 'female' 'female' 'male' 'female' 'female' 'female' 'male' 'female'\n",
            " 'female' 'female' 'male' 'female' 'female' 'male' 'female' 'female'\n",
            " 'female' 'male' 'male' 'male' 'male' 'male' 'female' 'male' 'male' 'male'\n",
            " 'male' 'male' 'female' 'male' 'male' 'male' 'female' 'male' 'male'\n",
            " 'female' 'male' 'female' 'female' 'female' 'female' 'male' 'male' 'male'\n",
            " 'female' 'male' 'male' 'male' 'female' 'female' 'male' 'female' 'female'\n",
            " 'male' 'male' 'male' 'female' 'male' 'male' 'male' 'female' 'female'\n",
            " 'male' 'female' 'female' 'female' 'female' 'male' 'female' 'male' 'male'\n",
            " 'female' 'male' 'female' 'female' 'male' 'female' 'male' 'female' 'male'\n",
            " 'female' 'female' 'male' 'female' 'male' 'female' 'female' 'male' 'male'\n",
            " 'male' 'female' 'male' 'female' 'female' 'female' 'male' 'female'\n",
            " 'female' 'male' 'female' 'male' 'female' 'male' 'female' 'female' 'male'\n",
            " 'male' 'male' 'male' 'female' 'male' 'female' 'female' 'male' 'male'\n",
            " 'female' 'male' 'male' 'male' 'male' 'male' 'female' 'male' 'female'\n",
            " 'male' 'female' 'male' 'female' 'female' 'male' 'male' 'male' 'male'\n",
            " 'female' 'male' 'female' 'male' 'female' 'male' 'male' 'female' 'male'\n",
            " 'female' 'male' 'female' 'female' 'female' 'male' 'male' 'female' 'male'\n",
            " 'female' 'male' 'female' 'female' 'male' 'female' 'female' 'male' 'male'\n",
            " 'female' 'female' 'female' 'male' 'male' 'male' 'male' 'female' 'male'\n",
            " 'female' 'male' 'male' 'female' 'female' 'female' 'female' 'male' 'male'\n",
            " 'male' 'male' 'male' 'female' 'male' 'female' 'male' 'female' 'male'\n",
            " 'male' 'female' 'female' 'female' 'female' 'male' 'male' 'male' 'male'\n",
            " 'male' 'female' 'female' 'female' 'male' 'female' 'female' 'male'\n",
            " 'female' 'male' 'male' 'female' 'male' 'female' 'female' 'male' 'male'\n",
            " 'female' 'male' 'female' 'female' 'female' 'male' 'female' 'male'\n",
            " 'female' 'female' 'female' 'female' 'female' 'female' 'male' 'male'\n",
            " 'female' 'male' 'male' 'female' 'female' 'female' 'male' 'male' 'male'\n",
            " 'male' 'male' 'female' 'male' 'female' 'male' 'female' 'male' 'male'\n",
            " 'female' 'male' 'male' 'male' 'male' 'male' 'female' 'male' 'male' 'male'\n",
            " 'female' 'male' 'male' 'female' 'male' 'male' 'male' 'female' 'male'\n",
            " 'male' 'male' 'female' 'male' 'male' 'male' 'male' 'female' 'female'\n",
            " 'male' 'female' 'male' 'female' 'female' 'male' 'female' 'male' 'male'\n",
            " 'male' 'female' 'female' 'male' 'female' 'female' 'male' 'male' 'male'\n",
            " 'male' 'female' 'female' 'male' 'female' 'male' 'male' 'female' 'female'\n",
            " 'female' 'female' 'female' 'male' 'female' 'male' 'male' 'female' 'male'\n",
            " 'female' 'female' 'male' 'female' 'female' 'male' 'male' 'male' 'female'\n",
            " 'male' 'female' 'male' 'female' 'male' 'female' 'male' 'female' 'male'\n",
            " 'male' 'male' 'male' 'female' 'female' 'male' 'male' 'female' 'male'\n",
            " 'male' 'female' 'male' 'female' 'female' 'female' 'female' 'male' 'male'\n",
            " 'female' 'male' 'female' 'male' 'female' 'male' 'male' 'male' 'male'\n",
            " 'male' 'female' 'male' 'female' 'male' 'male' 'female' 'male' 'male'\n",
            " 'female' 'male' 'male' 'male' 'male' 'female' 'male' 'male' 'male' 'male'\n",
            " 'female' 'male' 'male' 'male' 'male' 'female' 'female' 'female' 'female'\n",
            " 'male' 'male' 'male' 'male' 'male' 'male' 'female' 'male' 'female'\n",
            " 'female' 'female' 'female' 'male' 'female' 'male' 'male' 'male' 'male'\n",
            " 'female' 'female' 'male' 'male' 'male' 'male' 'male' 'male' 'male'\n",
            " 'female' 'female' 'female' 'male' 'male' 'male' 'male' 'female' 'male'\n",
            " 'male' 'male' 'female' 'female' 'male' 'male' 'female' 'male' 'male'\n",
            " 'female' 'male' 'male' 'male' 'female' 'female' 'male' 'male' 'male'\n",
            " 'female' 'female' 'male' 'male' 'male' 'male' 'male' 'female' 'male'\n",
            " 'male' 'female' 'female' 'male' 'female' 'male' 'female' 'male' 'female'\n",
            " 'male' 'female' 'male' 'female' 'male' 'male' 'male' 'female' 'female'\n",
            " 'female' 'male' 'male' 'female' 'male' 'female' 'male' 'female' 'male'\n",
            " 'female' 'male' 'female' 'female' 'male' 'male' 'male' 'male' 'female'\n",
            " 'female' 'male' 'female' 'female' 'female' 'female' 'male' 'female'\n",
            " 'female' 'male' 'female' 'female' 'female' 'female' 'male' 'male'\n",
            " 'female' 'female' 'female' 'female' 'female' 'male' 'male' 'male' 'male'\n",
            " 'male' 'male' 'female' 'male' 'female' 'female' 'female' 'female'\n",
            " 'female' 'male' 'male' 'female' 'male' 'female' 'female' 'female' 'male'\n",
            " 'male' 'male' 'female' 'male' 'female' 'female' 'female' 'female' 'male'\n",
            " 'male' 'female' 'male' 'female' 'male' 'female' 'male' 'female' 'female'\n",
            " 'male' 'female' 'male' 'male' 'female' 'female' 'female' 'male' 'female'\n",
            " 'female']\n"
          ]
        }
      ]
    },
    {
      "cell_type": "code",
      "source": [
        "gen_cls_metrics(y_test,ypred_m5)"
      ],
      "metadata": {
        "colab": {
          "base_uri": "https://localhost:8080/"
        },
        "id": "XttLUieh5YqC",
        "outputId": "ea0c16ae-ad69-4954-d710-a002662def7e"
      },
      "execution_count": null,
      "outputs": [
        {
          "output_type": "stream",
          "name": "stdout",
          "text": [
            "Accuracy Score 0.9037854889589906\n",
            "[[283  55]\n",
            " [  6 290]]\n",
            "              precision    recall  f1-score   support\n",
            "\n",
            "      female       0.98      0.84      0.90       338\n",
            "        male       0.84      0.98      0.90       296\n",
            "\n",
            "    accuracy                           0.90       634\n",
            "   macro avg       0.91      0.91      0.90       634\n",
            "weighted avg       0.91      0.90      0.90       634\n",
            "\n"
          ]
        }
      ]
    },
    {
      "cell_type": "code",
      "source": [
        "#5.also generate confusion_matrix and classification report for each model generated in Q4"
      ],
      "metadata": {
        "id": "4L21dPyBcc7n"
      },
      "execution_count": null,
      "outputs": []
    },
    {
      "cell_type": "code",
      "source": [
        "corr = df.corr()\n",
        "corr"
      ],
      "metadata": {
        "id": "Sm63NCSx5eq9",
        "colab": {
          "base_uri": "https://localhost:8080/",
          "height": 741
        },
        "outputId": "698f930a-4b21-480c-d4a3-c76a1ab74381"
      },
      "execution_count": null,
      "outputs": [
        {
          "output_type": "execute_result",
          "data": {
            "text/plain": [
              "          meanfreq        sd    median       Q25       Q75       IQR  \\\n",
              "meanfreq  1.000000 -0.739039  0.925445  0.911416  0.740997 -0.627605   \n",
              "sd       -0.739039  1.000000 -0.562603 -0.846931 -0.161076  0.874660   \n",
              "median    0.925445 -0.562603  1.000000  0.774922  0.731849 -0.477352   \n",
              "Q25       0.911416 -0.846931  0.774922  1.000000  0.477140 -0.874189   \n",
              "Q75       0.740997 -0.161076  0.731849  0.477140  1.000000  0.009636   \n",
              "IQR      -0.627605  0.874660 -0.477352 -0.874189  0.009636  1.000000   \n",
              "skew     -0.322327  0.314597 -0.257407 -0.319475 -0.206339  0.249497   \n",
              "kurt     -0.316036  0.346241 -0.243382 -0.350182 -0.148881  0.316185   \n",
              "sp.ent   -0.601203  0.716620 -0.502005 -0.648126 -0.174905  0.640813   \n",
              "sfm      -0.784332  0.838086 -0.661690 -0.766875 -0.378198  0.663601   \n",
              "mode      0.687715 -0.529150  0.677433  0.591277  0.486857 -0.403764   \n",
              "centroid  1.000000 -0.739039  0.925445  0.911416  0.740997 -0.627605   \n",
              "meanfun   0.460844 -0.466281  0.414909  0.545035  0.155091 -0.534462   \n",
              "minfun    0.383937 -0.345609  0.337602  0.320994  0.258002 -0.222680   \n",
              "maxfun    0.274004 -0.129662  0.251328  0.199841  0.285584 -0.069588   \n",
              "meandom   0.536666 -0.482726  0.455943  0.467403  0.359181 -0.333362   \n",
              "mindom    0.229261 -0.357667  0.191169  0.302255 -0.023750 -0.357037   \n",
              "maxdom    0.519528 -0.482278  0.438919  0.459683  0.335114 -0.337877   \n",
              "dfrange   0.515570 -0.475999  0.435621  0.454394  0.335648 -0.331563   \n",
              "modindx  -0.216979  0.122660 -0.213298 -0.141377 -0.216475  0.041252   \n",
              "\n",
              "              skew      kurt    sp.ent       sfm      mode  centroid  \\\n",
              "meanfreq -0.322327 -0.316036 -0.601203 -0.784332  0.687715  1.000000   \n",
              "sd        0.314597  0.346241  0.716620  0.838086 -0.529150 -0.739039   \n",
              "median   -0.257407 -0.243382 -0.502005 -0.661690  0.677433  0.925445   \n",
              "Q25      -0.319475 -0.350182 -0.648126 -0.766875  0.591277  0.911416   \n",
              "Q75      -0.206339 -0.148881 -0.174905 -0.378198  0.486857  0.740997   \n",
              "IQR       0.249497  0.316185  0.640813  0.663601 -0.403764 -0.627605   \n",
              "skew      1.000000  0.977020 -0.195459  0.079694 -0.434859 -0.322327   \n",
              "kurt      0.977020  1.000000 -0.127644  0.109884 -0.406722 -0.316036   \n",
              "sp.ent   -0.195459 -0.127644  1.000000  0.866411 -0.325298 -0.601203   \n",
              "sfm       0.079694  0.109884  0.866411  1.000000 -0.485913 -0.784332   \n",
              "mode     -0.434859 -0.406722 -0.325298 -0.485913  1.000000  0.687715   \n",
              "centroid -0.322327 -0.316036 -0.601203 -0.784332  0.687715  1.000000   \n",
              "meanfun  -0.167668 -0.194560 -0.513194 -0.421066  0.324771  0.460844   \n",
              "minfun   -0.216954 -0.203201 -0.305826 -0.362100  0.385467  0.383937   \n",
              "maxfun   -0.080861 -0.045667 -0.120738 -0.192369  0.172329  0.274004   \n",
              "meandom  -0.336848 -0.303234 -0.293562 -0.428442  0.491479  0.536666   \n",
              "mindom   -0.061608 -0.103313 -0.294869 -0.289593  0.198150  0.229261   \n",
              "maxdom   -0.305651 -0.274500 -0.324253 -0.436649  0.477187  0.519528   \n",
              "dfrange  -0.304640 -0.272729 -0.319054 -0.431580  0.473775  0.515570   \n",
              "modindx  -0.169325 -0.205539  0.198074  0.211477 -0.182344 -0.216979   \n",
              "\n",
              "           meanfun    minfun    maxfun   meandom    mindom    maxdom  \\\n",
              "meanfreq  0.460844  0.383937  0.274004  0.536666  0.229261  0.519528   \n",
              "sd       -0.466281 -0.345609 -0.129662 -0.482726 -0.357667 -0.482278   \n",
              "median    0.414909  0.337602  0.251328  0.455943  0.191169  0.438919   \n",
              "Q25       0.545035  0.320994  0.199841  0.467403  0.302255  0.459683   \n",
              "Q75       0.155091  0.258002  0.285584  0.359181 -0.023750  0.335114   \n",
              "IQR      -0.534462 -0.222680 -0.069588 -0.333362 -0.357037 -0.337877   \n",
              "skew     -0.167668 -0.216954 -0.080861 -0.336848 -0.061608 -0.305651   \n",
              "kurt     -0.194560 -0.203201 -0.045667 -0.303234 -0.103313 -0.274500   \n",
              "sp.ent   -0.513194 -0.305826 -0.120738 -0.293562 -0.294869 -0.324253   \n",
              "sfm      -0.421066 -0.362100 -0.192369 -0.428442 -0.289593 -0.436649   \n",
              "mode      0.324771  0.385467  0.172329  0.491479  0.198150  0.477187   \n",
              "centroid  0.460844  0.383937  0.274004  0.536666  0.229261  0.519528   \n",
              "meanfun   1.000000  0.339387  0.311950  0.270840  0.162163  0.277982   \n",
              "minfun    0.339387  1.000000  0.213987  0.375979  0.082015  0.317860   \n",
              "maxfun    0.311950  0.213987  1.000000  0.337553 -0.243426  0.355390   \n",
              "meandom   0.270840  0.375979  0.337553  1.000000  0.099656  0.812838   \n",
              "mindom    0.162163  0.082015 -0.243426  0.099656  1.000000  0.026640   \n",
              "maxdom    0.277982  0.317860  0.355390  0.812838  0.026640  1.000000   \n",
              "dfrange   0.275154  0.316486  0.359880  0.811304  0.008666  0.999838   \n",
              "modindx  -0.054858  0.002042 -0.363029 -0.180954  0.200212 -0.425531   \n",
              "\n",
              "           dfrange   modindx  \n",
              "meanfreq  0.515570 -0.216979  \n",
              "sd       -0.475999  0.122660  \n",
              "median    0.435621 -0.213298  \n",
              "Q25       0.454394 -0.141377  \n",
              "Q75       0.335648 -0.216475  \n",
              "IQR      -0.331563  0.041252  \n",
              "skew     -0.304640 -0.169325  \n",
              "kurt     -0.272729 -0.205539  \n",
              "sp.ent   -0.319054  0.198074  \n",
              "sfm      -0.431580  0.211477  \n",
              "mode      0.473775 -0.182344  \n",
              "centroid  0.515570 -0.216979  \n",
              "meanfun   0.275154 -0.054858  \n",
              "minfun    0.316486  0.002042  \n",
              "maxfun    0.359880 -0.363029  \n",
              "meandom   0.811304 -0.180954  \n",
              "mindom    0.008666  0.200212  \n",
              "maxdom    0.999838 -0.425531  \n",
              "dfrange   1.000000 -0.429266  \n",
              "modindx  -0.429266  1.000000  "
            ],
            "text/html": [
              "\n",
              "  <div id=\"df-6bb14c5d-2e70-485c-8b5d-c185e172a121\">\n",
              "    <div class=\"colab-df-container\">\n",
              "      <div>\n",
              "<style scoped>\n",
              "    .dataframe tbody tr th:only-of-type {\n",
              "        vertical-align: middle;\n",
              "    }\n",
              "\n",
              "    .dataframe tbody tr th {\n",
              "        vertical-align: top;\n",
              "    }\n",
              "\n",
              "    .dataframe thead th {\n",
              "        text-align: right;\n",
              "    }\n",
              "</style>\n",
              "<table border=\"1\" class=\"dataframe\">\n",
              "  <thead>\n",
              "    <tr style=\"text-align: right;\">\n",
              "      <th></th>\n",
              "      <th>meanfreq</th>\n",
              "      <th>sd</th>\n",
              "      <th>median</th>\n",
              "      <th>Q25</th>\n",
              "      <th>Q75</th>\n",
              "      <th>IQR</th>\n",
              "      <th>skew</th>\n",
              "      <th>kurt</th>\n",
              "      <th>sp.ent</th>\n",
              "      <th>sfm</th>\n",
              "      <th>mode</th>\n",
              "      <th>centroid</th>\n",
              "      <th>meanfun</th>\n",
              "      <th>minfun</th>\n",
              "      <th>maxfun</th>\n",
              "      <th>meandom</th>\n",
              "      <th>mindom</th>\n",
              "      <th>maxdom</th>\n",
              "      <th>dfrange</th>\n",
              "      <th>modindx</th>\n",
              "    </tr>\n",
              "  </thead>\n",
              "  <tbody>\n",
              "    <tr>\n",
              "      <th>meanfreq</th>\n",
              "      <td>1.000000</td>\n",
              "      <td>-0.739039</td>\n",
              "      <td>0.925445</td>\n",
              "      <td>0.911416</td>\n",
              "      <td>0.740997</td>\n",
              "      <td>-0.627605</td>\n",
              "      <td>-0.322327</td>\n",
              "      <td>-0.316036</td>\n",
              "      <td>-0.601203</td>\n",
              "      <td>-0.784332</td>\n",
              "      <td>0.687715</td>\n",
              "      <td>1.000000</td>\n",
              "      <td>0.460844</td>\n",
              "      <td>0.383937</td>\n",
              "      <td>0.274004</td>\n",
              "      <td>0.536666</td>\n",
              "      <td>0.229261</td>\n",
              "      <td>0.519528</td>\n",
              "      <td>0.515570</td>\n",
              "      <td>-0.216979</td>\n",
              "    </tr>\n",
              "    <tr>\n",
              "      <th>sd</th>\n",
              "      <td>-0.739039</td>\n",
              "      <td>1.000000</td>\n",
              "      <td>-0.562603</td>\n",
              "      <td>-0.846931</td>\n",
              "      <td>-0.161076</td>\n",
              "      <td>0.874660</td>\n",
              "      <td>0.314597</td>\n",
              "      <td>0.346241</td>\n",
              "      <td>0.716620</td>\n",
              "      <td>0.838086</td>\n",
              "      <td>-0.529150</td>\n",
              "      <td>-0.739039</td>\n",
              "      <td>-0.466281</td>\n",
              "      <td>-0.345609</td>\n",
              "      <td>-0.129662</td>\n",
              "      <td>-0.482726</td>\n",
              "      <td>-0.357667</td>\n",
              "      <td>-0.482278</td>\n",
              "      <td>-0.475999</td>\n",
              "      <td>0.122660</td>\n",
              "    </tr>\n",
              "    <tr>\n",
              "      <th>median</th>\n",
              "      <td>0.925445</td>\n",
              "      <td>-0.562603</td>\n",
              "      <td>1.000000</td>\n",
              "      <td>0.774922</td>\n",
              "      <td>0.731849</td>\n",
              "      <td>-0.477352</td>\n",
              "      <td>-0.257407</td>\n",
              "      <td>-0.243382</td>\n",
              "      <td>-0.502005</td>\n",
              "      <td>-0.661690</td>\n",
              "      <td>0.677433</td>\n",
              "      <td>0.925445</td>\n",
              "      <td>0.414909</td>\n",
              "      <td>0.337602</td>\n",
              "      <td>0.251328</td>\n",
              "      <td>0.455943</td>\n",
              "      <td>0.191169</td>\n",
              "      <td>0.438919</td>\n",
              "      <td>0.435621</td>\n",
              "      <td>-0.213298</td>\n",
              "    </tr>\n",
              "    <tr>\n",
              "      <th>Q25</th>\n",
              "      <td>0.911416</td>\n",
              "      <td>-0.846931</td>\n",
              "      <td>0.774922</td>\n",
              "      <td>1.000000</td>\n",
              "      <td>0.477140</td>\n",
              "      <td>-0.874189</td>\n",
              "      <td>-0.319475</td>\n",
              "      <td>-0.350182</td>\n",
              "      <td>-0.648126</td>\n",
              "      <td>-0.766875</td>\n",
              "      <td>0.591277</td>\n",
              "      <td>0.911416</td>\n",
              "      <td>0.545035</td>\n",
              "      <td>0.320994</td>\n",
              "      <td>0.199841</td>\n",
              "      <td>0.467403</td>\n",
              "      <td>0.302255</td>\n",
              "      <td>0.459683</td>\n",
              "      <td>0.454394</td>\n",
              "      <td>-0.141377</td>\n",
              "    </tr>\n",
              "    <tr>\n",
              "      <th>Q75</th>\n",
              "      <td>0.740997</td>\n",
              "      <td>-0.161076</td>\n",
              "      <td>0.731849</td>\n",
              "      <td>0.477140</td>\n",
              "      <td>1.000000</td>\n",
              "      <td>0.009636</td>\n",
              "      <td>-0.206339</td>\n",
              "      <td>-0.148881</td>\n",
              "      <td>-0.174905</td>\n",
              "      <td>-0.378198</td>\n",
              "      <td>0.486857</td>\n",
              "      <td>0.740997</td>\n",
              "      <td>0.155091</td>\n",
              "      <td>0.258002</td>\n",
              "      <td>0.285584</td>\n",
              "      <td>0.359181</td>\n",
              "      <td>-0.023750</td>\n",
              "      <td>0.335114</td>\n",
              "      <td>0.335648</td>\n",
              "      <td>-0.216475</td>\n",
              "    </tr>\n",
              "    <tr>\n",
              "      <th>IQR</th>\n",
              "      <td>-0.627605</td>\n",
              "      <td>0.874660</td>\n",
              "      <td>-0.477352</td>\n",
              "      <td>-0.874189</td>\n",
              "      <td>0.009636</td>\n",
              "      <td>1.000000</td>\n",
              "      <td>0.249497</td>\n",
              "      <td>0.316185</td>\n",
              "      <td>0.640813</td>\n",
              "      <td>0.663601</td>\n",
              "      <td>-0.403764</td>\n",
              "      <td>-0.627605</td>\n",
              "      <td>-0.534462</td>\n",
              "      <td>-0.222680</td>\n",
              "      <td>-0.069588</td>\n",
              "      <td>-0.333362</td>\n",
              "      <td>-0.357037</td>\n",
              "      <td>-0.337877</td>\n",
              "      <td>-0.331563</td>\n",
              "      <td>0.041252</td>\n",
              "    </tr>\n",
              "    <tr>\n",
              "      <th>skew</th>\n",
              "      <td>-0.322327</td>\n",
              "      <td>0.314597</td>\n",
              "      <td>-0.257407</td>\n",
              "      <td>-0.319475</td>\n",
              "      <td>-0.206339</td>\n",
              "      <td>0.249497</td>\n",
              "      <td>1.000000</td>\n",
              "      <td>0.977020</td>\n",
              "      <td>-0.195459</td>\n",
              "      <td>0.079694</td>\n",
              "      <td>-0.434859</td>\n",
              "      <td>-0.322327</td>\n",
              "      <td>-0.167668</td>\n",
              "      <td>-0.216954</td>\n",
              "      <td>-0.080861</td>\n",
              "      <td>-0.336848</td>\n",
              "      <td>-0.061608</td>\n",
              "      <td>-0.305651</td>\n",
              "      <td>-0.304640</td>\n",
              "      <td>-0.169325</td>\n",
              "    </tr>\n",
              "    <tr>\n",
              "      <th>kurt</th>\n",
              "      <td>-0.316036</td>\n",
              "      <td>0.346241</td>\n",
              "      <td>-0.243382</td>\n",
              "      <td>-0.350182</td>\n",
              "      <td>-0.148881</td>\n",
              "      <td>0.316185</td>\n",
              "      <td>0.977020</td>\n",
              "      <td>1.000000</td>\n",
              "      <td>-0.127644</td>\n",
              "      <td>0.109884</td>\n",
              "      <td>-0.406722</td>\n",
              "      <td>-0.316036</td>\n",
              "      <td>-0.194560</td>\n",
              "      <td>-0.203201</td>\n",
              "      <td>-0.045667</td>\n",
              "      <td>-0.303234</td>\n",
              "      <td>-0.103313</td>\n",
              "      <td>-0.274500</td>\n",
              "      <td>-0.272729</td>\n",
              "      <td>-0.205539</td>\n",
              "    </tr>\n",
              "    <tr>\n",
              "      <th>sp.ent</th>\n",
              "      <td>-0.601203</td>\n",
              "      <td>0.716620</td>\n",
              "      <td>-0.502005</td>\n",
              "      <td>-0.648126</td>\n",
              "      <td>-0.174905</td>\n",
              "      <td>0.640813</td>\n",
              "      <td>-0.195459</td>\n",
              "      <td>-0.127644</td>\n",
              "      <td>1.000000</td>\n",
              "      <td>0.866411</td>\n",
              "      <td>-0.325298</td>\n",
              "      <td>-0.601203</td>\n",
              "      <td>-0.513194</td>\n",
              "      <td>-0.305826</td>\n",
              "      <td>-0.120738</td>\n",
              "      <td>-0.293562</td>\n",
              "      <td>-0.294869</td>\n",
              "      <td>-0.324253</td>\n",
              "      <td>-0.319054</td>\n",
              "      <td>0.198074</td>\n",
              "    </tr>\n",
              "    <tr>\n",
              "      <th>sfm</th>\n",
              "      <td>-0.784332</td>\n",
              "      <td>0.838086</td>\n",
              "      <td>-0.661690</td>\n",
              "      <td>-0.766875</td>\n",
              "      <td>-0.378198</td>\n",
              "      <td>0.663601</td>\n",
              "      <td>0.079694</td>\n",
              "      <td>0.109884</td>\n",
              "      <td>0.866411</td>\n",
              "      <td>1.000000</td>\n",
              "      <td>-0.485913</td>\n",
              "      <td>-0.784332</td>\n",
              "      <td>-0.421066</td>\n",
              "      <td>-0.362100</td>\n",
              "      <td>-0.192369</td>\n",
              "      <td>-0.428442</td>\n",
              "      <td>-0.289593</td>\n",
              "      <td>-0.436649</td>\n",
              "      <td>-0.431580</td>\n",
              "      <td>0.211477</td>\n",
              "    </tr>\n",
              "    <tr>\n",
              "      <th>mode</th>\n",
              "      <td>0.687715</td>\n",
              "      <td>-0.529150</td>\n",
              "      <td>0.677433</td>\n",
              "      <td>0.591277</td>\n",
              "      <td>0.486857</td>\n",
              "      <td>-0.403764</td>\n",
              "      <td>-0.434859</td>\n",
              "      <td>-0.406722</td>\n",
              "      <td>-0.325298</td>\n",
              "      <td>-0.485913</td>\n",
              "      <td>1.000000</td>\n",
              "      <td>0.687715</td>\n",
              "      <td>0.324771</td>\n",
              "      <td>0.385467</td>\n",
              "      <td>0.172329</td>\n",
              "      <td>0.491479</td>\n",
              "      <td>0.198150</td>\n",
              "      <td>0.477187</td>\n",
              "      <td>0.473775</td>\n",
              "      <td>-0.182344</td>\n",
              "    </tr>\n",
              "    <tr>\n",
              "      <th>centroid</th>\n",
              "      <td>1.000000</td>\n",
              "      <td>-0.739039</td>\n",
              "      <td>0.925445</td>\n",
              "      <td>0.911416</td>\n",
              "      <td>0.740997</td>\n",
              "      <td>-0.627605</td>\n",
              "      <td>-0.322327</td>\n",
              "      <td>-0.316036</td>\n",
              "      <td>-0.601203</td>\n",
              "      <td>-0.784332</td>\n",
              "      <td>0.687715</td>\n",
              "      <td>1.000000</td>\n",
              "      <td>0.460844</td>\n",
              "      <td>0.383937</td>\n",
              "      <td>0.274004</td>\n",
              "      <td>0.536666</td>\n",
              "      <td>0.229261</td>\n",
              "      <td>0.519528</td>\n",
              "      <td>0.515570</td>\n",
              "      <td>-0.216979</td>\n",
              "    </tr>\n",
              "    <tr>\n",
              "      <th>meanfun</th>\n",
              "      <td>0.460844</td>\n",
              "      <td>-0.466281</td>\n",
              "      <td>0.414909</td>\n",
              "      <td>0.545035</td>\n",
              "      <td>0.155091</td>\n",
              "      <td>-0.534462</td>\n",
              "      <td>-0.167668</td>\n",
              "      <td>-0.194560</td>\n",
              "      <td>-0.513194</td>\n",
              "      <td>-0.421066</td>\n",
              "      <td>0.324771</td>\n",
              "      <td>0.460844</td>\n",
              "      <td>1.000000</td>\n",
              "      <td>0.339387</td>\n",
              "      <td>0.311950</td>\n",
              "      <td>0.270840</td>\n",
              "      <td>0.162163</td>\n",
              "      <td>0.277982</td>\n",
              "      <td>0.275154</td>\n",
              "      <td>-0.054858</td>\n",
              "    </tr>\n",
              "    <tr>\n",
              "      <th>minfun</th>\n",
              "      <td>0.383937</td>\n",
              "      <td>-0.345609</td>\n",
              "      <td>0.337602</td>\n",
              "      <td>0.320994</td>\n",
              "      <td>0.258002</td>\n",
              "      <td>-0.222680</td>\n",
              "      <td>-0.216954</td>\n",
              "      <td>-0.203201</td>\n",
              "      <td>-0.305826</td>\n",
              "      <td>-0.362100</td>\n",
              "      <td>0.385467</td>\n",
              "      <td>0.383937</td>\n",
              "      <td>0.339387</td>\n",
              "      <td>1.000000</td>\n",
              "      <td>0.213987</td>\n",
              "      <td>0.375979</td>\n",
              "      <td>0.082015</td>\n",
              "      <td>0.317860</td>\n",
              "      <td>0.316486</td>\n",
              "      <td>0.002042</td>\n",
              "    </tr>\n",
              "    <tr>\n",
              "      <th>maxfun</th>\n",
              "      <td>0.274004</td>\n",
              "      <td>-0.129662</td>\n",
              "      <td>0.251328</td>\n",
              "      <td>0.199841</td>\n",
              "      <td>0.285584</td>\n",
              "      <td>-0.069588</td>\n",
              "      <td>-0.080861</td>\n",
              "      <td>-0.045667</td>\n",
              "      <td>-0.120738</td>\n",
              "      <td>-0.192369</td>\n",
              "      <td>0.172329</td>\n",
              "      <td>0.274004</td>\n",
              "      <td>0.311950</td>\n",
              "      <td>0.213987</td>\n",
              "      <td>1.000000</td>\n",
              "      <td>0.337553</td>\n",
              "      <td>-0.243426</td>\n",
              "      <td>0.355390</td>\n",
              "      <td>0.359880</td>\n",
              "      <td>-0.363029</td>\n",
              "    </tr>\n",
              "    <tr>\n",
              "      <th>meandom</th>\n",
              "      <td>0.536666</td>\n",
              "      <td>-0.482726</td>\n",
              "      <td>0.455943</td>\n",
              "      <td>0.467403</td>\n",
              "      <td>0.359181</td>\n",
              "      <td>-0.333362</td>\n",
              "      <td>-0.336848</td>\n",
              "      <td>-0.303234</td>\n",
              "      <td>-0.293562</td>\n",
              "      <td>-0.428442</td>\n",
              "      <td>0.491479</td>\n",
              "      <td>0.536666</td>\n",
              "      <td>0.270840</td>\n",
              "      <td>0.375979</td>\n",
              "      <td>0.337553</td>\n",
              "      <td>1.000000</td>\n",
              "      <td>0.099656</td>\n",
              "      <td>0.812838</td>\n",
              "      <td>0.811304</td>\n",
              "      <td>-0.180954</td>\n",
              "    </tr>\n",
              "    <tr>\n",
              "      <th>mindom</th>\n",
              "      <td>0.229261</td>\n",
              "      <td>-0.357667</td>\n",
              "      <td>0.191169</td>\n",
              "      <td>0.302255</td>\n",
              "      <td>-0.023750</td>\n",
              "      <td>-0.357037</td>\n",
              "      <td>-0.061608</td>\n",
              "      <td>-0.103313</td>\n",
              "      <td>-0.294869</td>\n",
              "      <td>-0.289593</td>\n",
              "      <td>0.198150</td>\n",
              "      <td>0.229261</td>\n",
              "      <td>0.162163</td>\n",
              "      <td>0.082015</td>\n",
              "      <td>-0.243426</td>\n",
              "      <td>0.099656</td>\n",
              "      <td>1.000000</td>\n",
              "      <td>0.026640</td>\n",
              "      <td>0.008666</td>\n",
              "      <td>0.200212</td>\n",
              "    </tr>\n",
              "    <tr>\n",
              "      <th>maxdom</th>\n",
              "      <td>0.519528</td>\n",
              "      <td>-0.482278</td>\n",
              "      <td>0.438919</td>\n",
              "      <td>0.459683</td>\n",
              "      <td>0.335114</td>\n",
              "      <td>-0.337877</td>\n",
              "      <td>-0.305651</td>\n",
              "      <td>-0.274500</td>\n",
              "      <td>-0.324253</td>\n",
              "      <td>-0.436649</td>\n",
              "      <td>0.477187</td>\n",
              "      <td>0.519528</td>\n",
              "      <td>0.277982</td>\n",
              "      <td>0.317860</td>\n",
              "      <td>0.355390</td>\n",
              "      <td>0.812838</td>\n",
              "      <td>0.026640</td>\n",
              "      <td>1.000000</td>\n",
              "      <td>0.999838</td>\n",
              "      <td>-0.425531</td>\n",
              "    </tr>\n",
              "    <tr>\n",
              "      <th>dfrange</th>\n",
              "      <td>0.515570</td>\n",
              "      <td>-0.475999</td>\n",
              "      <td>0.435621</td>\n",
              "      <td>0.454394</td>\n",
              "      <td>0.335648</td>\n",
              "      <td>-0.331563</td>\n",
              "      <td>-0.304640</td>\n",
              "      <td>-0.272729</td>\n",
              "      <td>-0.319054</td>\n",
              "      <td>-0.431580</td>\n",
              "      <td>0.473775</td>\n",
              "      <td>0.515570</td>\n",
              "      <td>0.275154</td>\n",
              "      <td>0.316486</td>\n",
              "      <td>0.359880</td>\n",
              "      <td>0.811304</td>\n",
              "      <td>0.008666</td>\n",
              "      <td>0.999838</td>\n",
              "      <td>1.000000</td>\n",
              "      <td>-0.429266</td>\n",
              "    </tr>\n",
              "    <tr>\n",
              "      <th>modindx</th>\n",
              "      <td>-0.216979</td>\n",
              "      <td>0.122660</td>\n",
              "      <td>-0.213298</td>\n",
              "      <td>-0.141377</td>\n",
              "      <td>-0.216475</td>\n",
              "      <td>0.041252</td>\n",
              "      <td>-0.169325</td>\n",
              "      <td>-0.205539</td>\n",
              "      <td>0.198074</td>\n",
              "      <td>0.211477</td>\n",
              "      <td>-0.182344</td>\n",
              "      <td>-0.216979</td>\n",
              "      <td>-0.054858</td>\n",
              "      <td>0.002042</td>\n",
              "      <td>-0.363029</td>\n",
              "      <td>-0.180954</td>\n",
              "      <td>0.200212</td>\n",
              "      <td>-0.425531</td>\n",
              "      <td>-0.429266</td>\n",
              "      <td>1.000000</td>\n",
              "    </tr>\n",
              "  </tbody>\n",
              "</table>\n",
              "</div>\n",
              "      <button class=\"colab-df-convert\" onclick=\"convertToInteractive('df-6bb14c5d-2e70-485c-8b5d-c185e172a121')\"\n",
              "              title=\"Convert this dataframe to an interactive table.\"\n",
              "              style=\"display:none;\">\n",
              "        \n",
              "  <svg xmlns=\"http://www.w3.org/2000/svg\" height=\"24px\"viewBox=\"0 0 24 24\"\n",
              "       width=\"24px\">\n",
              "    <path d=\"M0 0h24v24H0V0z\" fill=\"none\"/>\n",
              "    <path d=\"M18.56 5.44l.94 2.06.94-2.06 2.06-.94-2.06-.94-.94-2.06-.94 2.06-2.06.94zm-11 1L8.5 8.5l.94-2.06 2.06-.94-2.06-.94L8.5 2.5l-.94 2.06-2.06.94zm10 10l.94 2.06.94-2.06 2.06-.94-2.06-.94-.94-2.06-.94 2.06-2.06.94z\"/><path d=\"M17.41 7.96l-1.37-1.37c-.4-.4-.92-.59-1.43-.59-.52 0-1.04.2-1.43.59L10.3 9.45l-7.72 7.72c-.78.78-.78 2.05 0 2.83L4 21.41c.39.39.9.59 1.41.59.51 0 1.02-.2 1.41-.59l7.78-7.78 2.81-2.81c.8-.78.8-2.07 0-2.86zM5.41 20L4 18.59l7.72-7.72 1.47 1.35L5.41 20z\"/>\n",
              "  </svg>\n",
              "      </button>\n",
              "      \n",
              "  <style>\n",
              "    .colab-df-container {\n",
              "      display:flex;\n",
              "      flex-wrap:wrap;\n",
              "      gap: 12px;\n",
              "    }\n",
              "\n",
              "    .colab-df-convert {\n",
              "      background-color: #E8F0FE;\n",
              "      border: none;\n",
              "      border-radius: 50%;\n",
              "      cursor: pointer;\n",
              "      display: none;\n",
              "      fill: #1967D2;\n",
              "      height: 32px;\n",
              "      padding: 0 0 0 0;\n",
              "      width: 32px;\n",
              "    }\n",
              "\n",
              "    .colab-df-convert:hover {\n",
              "      background-color: #E2EBFA;\n",
              "      box-shadow: 0px 1px 2px rgba(60, 64, 67, 0.3), 0px 1px 3px 1px rgba(60, 64, 67, 0.15);\n",
              "      fill: #174EA6;\n",
              "    }\n",
              "\n",
              "    [theme=dark] .colab-df-convert {\n",
              "      background-color: #3B4455;\n",
              "      fill: #D2E3FC;\n",
              "    }\n",
              "\n",
              "    [theme=dark] .colab-df-convert:hover {\n",
              "      background-color: #434B5C;\n",
              "      box-shadow: 0px 1px 3px 1px rgba(0, 0, 0, 0.15);\n",
              "      filter: drop-shadow(0px 1px 2px rgba(0, 0, 0, 0.3));\n",
              "      fill: #FFFFFF;\n",
              "    }\n",
              "  </style>\n",
              "\n",
              "      <script>\n",
              "        const buttonEl =\n",
              "          document.querySelector('#df-6bb14c5d-2e70-485c-8b5d-c185e172a121 button.colab-df-convert');\n",
              "        buttonEl.style.display =\n",
              "          google.colab.kernel.accessAllowed ? 'block' : 'none';\n",
              "\n",
              "        async function convertToInteractive(key) {\n",
              "          const element = document.querySelector('#df-6bb14c5d-2e70-485c-8b5d-c185e172a121');\n",
              "          const dataTable =\n",
              "            await google.colab.kernel.invokeFunction('convertToInteractive',\n",
              "                                                     [key], {});\n",
              "          if (!dataTable) return;\n",
              "\n",
              "          const docLinkHtml = 'Like what you see? Visit the ' +\n",
              "            '<a target=\"_blank\" href=https://colab.research.google.com/notebooks/data_table.ipynb>data table notebook</a>'\n",
              "            + ' to learn more about interactive tables.';\n",
              "          element.innerHTML = '';\n",
              "          dataTable['output_type'] = 'display_data';\n",
              "          await google.colab.output.renderOutput(dataTable, element);\n",
              "          const docLink = document.createElement('div');\n",
              "          docLink.innerHTML = docLinkHtml;\n",
              "          element.appendChild(docLink);\n",
              "        }\n",
              "      </script>\n",
              "    </div>\n",
              "  </div>\n",
              "  "
            ]
          },
          "metadata": {},
          "execution_count": 51
        }
      ]
    },
    {
      "cell_type": "code",
      "source": [
        "plt.figure(figsize=(10,8))\n",
        "sns.heatmap(corr,annot=True,cmap='RdBu')\n",
        "plt.show()"
      ],
      "metadata": {
        "colab": {
          "base_uri": "https://localhost:8080/",
          "height": 527
        },
        "id": "EFHFAIm_cUdm",
        "outputId": "cab000f5-3083-44b3-93fe-d0e29e1d7cb8"
      },
      "execution_count": null,
      "outputs": [
        {
          "output_type": "display_data",
          "data": {
            "text/plain": [
              "<Figure size 720x576 with 2 Axes>"
            ],
            "image/png": "[encoded data removed]"
          },
          "metadata": {
            "needs_background": "light"
          }
        }
      ]
    },
    {
      "cell_type": "code",
      "source": [
        "#6)report the model with best accuracy"
      ],
      "metadata": {
        "id": "K16f3X5J5uHC"
      },
      "execution_count": null,
      "outputs": []
    }
  ]
}